{
 "cells": [
  {
   "cell_type": "markdown",
   "id": "9cf57de6",
   "metadata": {},
   "source": [
    "## Reading, exploring data"
   ]
  },
  {
   "cell_type": "code",
   "id": "659d91c6",
   "metadata": {
    "ExecuteTime": {
     "end_time": "2025-06-20T05:38:04.264111Z",
     "start_time": "2025-06-20T05:38:03.955434Z"
    }
   },
   "source": [
    "# We always start with a dataset to train on. Let's download the tiny shakespeare dataset\n",
    "import urllib.request\n",
    "\n",
    "url = 'https://raw.githubusercontent.com/karpathy/char-rnn/master/data/tinyshakespeare/input.txt'\n",
    "filename = 'input.txt'\n",
    "\n",
    "# download file\n",
    "urllib.request.urlretrieve(url, filename)"
   ],
   "outputs": [
    {
     "data": {
      "text/plain": [
       "('input.txt', <http.client.HTTPMessage at 0x1addcd25df0>)"
      ]
     },
     "execution_count": 2,
     "metadata": {},
     "output_type": "execute_result"
    }
   ],
   "execution_count": 2
  },
  {
   "cell_type": "code",
   "id": "431ddf89",
   "metadata": {
    "ExecuteTime": {
     "end_time": "2025-06-20T05:38:04.285883Z",
     "start_time": "2025-06-20T05:38:04.280332Z"
    }
   },
   "source": [
    "# read it in to inspect it\n",
    "with open(filename, 'r', encoding='utf-8') as f:\n",
    "    text = f.read()"
   ],
   "outputs": [],
   "execution_count": 3
  },
  {
   "cell_type": "code",
   "id": "84d1eeee",
   "metadata": {
    "ExecuteTime": {
     "end_time": "2025-06-20T05:38:04.332771Z",
     "start_time": "2025-06-20T05:38:04.326771Z"
    }
   },
   "source": [
    "print('length of dataset in characters : ', len(text))"
   ],
   "outputs": [
    {
     "name": "stdout",
     "output_type": "stream",
     "text": [
      "length of dataset in characters :  1115394\n"
     ]
    }
   ],
   "execution_count": 4
  },
  {
   "cell_type": "code",
   "id": "0ae879aa",
   "metadata": {
    "ExecuteTime": {
     "end_time": "2025-06-20T05:38:04.384289Z",
     "start_time": "2025-06-20T05:38:04.380289Z"
    }
   },
   "source": [
    "# let's look at the first 1000 charaacters\n",
    "print(text[:300])"
   ],
   "outputs": [
    {
     "name": "stdout",
     "output_type": "stream",
     "text": [
      "First Citizen:\n",
      "Before we proceed any further, hear me speak.\n",
      "\n",
      "All:\n",
      "Speak, speak.\n",
      "\n",
      "First Citizen:\n",
      "You are all resolved rather to die than to famish?\n",
      "\n",
      "All:\n",
      "Resolved. resolved.\n",
      "\n",
      "First Citizen:\n",
      "First, you know Caius Marcius is chief enemy to the people.\n",
      "\n",
      "All:\n",
      "We know't, we know't.\n",
      "\n",
      "First Citizen:\n",
      "Let us\n"
     ]
    }
   ],
   "execution_count": 5
  },
  {
   "cell_type": "code",
   "id": "736ee46d",
   "metadata": {
    "ExecuteTime": {
     "end_time": "2025-06-20T05:38:04.422806Z",
     "start_time": "2025-06-20T05:38:04.406899Z"
    }
   },
   "source": [
    "# here are all the unique characters that occur in this text\n",
    "chars = sorted(list(set(text)))\n",
    "vocab_size = len(chars)\n",
    "print(''.join(chars))\n",
    "print('vocab size :', vocab_size)"
   ],
   "outputs": [
    {
     "name": "stdout",
     "output_type": "stream",
     "text": [
      "\n",
      " !$&',-.3:;?ABCDEFGHIJKLMNOPQRSTUVWXYZabcdefghijklmnopqrstuvwxyz\n",
      "vocab size : 65\n"
     ]
    }
   ],
   "execution_count": 6
  },
  {
   "cell_type": "markdown",
   "id": "803ec3f5",
   "metadata": {},
   "source": [
    "## Tokenization, train / val split"
   ]
  },
  {
   "cell_type": "code",
   "id": "04f423b5",
   "metadata": {
    "ExecuteTime": {
     "end_time": "2025-06-20T05:38:04.443893Z",
     "start_time": "2025-06-20T05:38:04.436893Z"
    }
   },
   "source": [
    "#create a mapping from characters to integers\n",
    "stoi = {ch:i for i,ch in enumerate(chars)}\n",
    "itos = {i:ch for i,ch in enumerate(chars)}\n",
    "encode = lambda s: [stoi[c] for c in s] # encoder: take a string, output a list of integers\n",
    "decode = lambda l: ''.join([itos[i] for i in l]) # decoder : take a list of intergers, output a string\n",
    "\n",
    "print(encode('hii there'))\n",
    "print(decode(encode('hii there')))"
   ],
   "outputs": [
    {
     "name": "stdout",
     "output_type": "stream",
     "text": [
      "[46, 47, 47, 1, 58, 46, 43, 56, 43]\n",
      "hii there\n"
     ]
    }
   ],
   "execution_count": 7
  },
  {
   "cell_type": "code",
   "id": "6603f4ed",
   "metadata": {
    "ExecuteTime": {
     "end_time": "2025-06-20T05:38:06.667899Z",
     "start_time": "2025-06-20T05:38:04.474330Z"
    }
   },
   "source": [
    "# let's now encode the entire text dataset and store it into a torch.tensor\n",
    "import torch # we use PyTorch\n",
    "data = torch.tensor(encode(text), dtype=torch.long)\n",
    "print(data.shape, data.dtype)\n",
    "print(data[:100]) # the 1000 characters we looked at earlier will to the GPT look like this"
   ],
   "outputs": [
    {
     "name": "stdout",
     "output_type": "stream",
     "text": [
      "torch.Size([1115394]) torch.int64\n",
      "tensor([18, 47, 56, 57, 58,  1, 15, 47, 58, 47, 64, 43, 52, 10,  0, 14, 43, 44,\n",
      "        53, 56, 43,  1, 61, 43,  1, 54, 56, 53, 41, 43, 43, 42,  1, 39, 52, 63,\n",
      "         1, 44, 59, 56, 58, 46, 43, 56,  6,  1, 46, 43, 39, 56,  1, 51, 43,  1,\n",
      "        57, 54, 43, 39, 49,  8,  0,  0, 13, 50, 50, 10,  0, 31, 54, 43, 39, 49,\n",
      "         6,  1, 57, 54, 43, 39, 49,  8,  0,  0, 18, 47, 56, 57, 58,  1, 15, 47,\n",
      "        58, 47, 64, 43, 52, 10,  0, 37, 53, 59])\n"
     ]
    }
   ],
   "execution_count": 8
  },
  {
   "cell_type": "code",
   "id": "f1977841",
   "metadata": {
    "ExecuteTime": {
     "end_time": "2025-06-20T05:38:06.678019Z",
     "start_time": "2025-06-20T05:38:06.673898Z"
    }
   },
   "source": [
    "# Let's now split up the data into trainn and validation sets\n",
    "n = int(0.9 * len(data)) # first 90% will be train, rest val\n",
    "train_data = data[:n]\n",
    "val_data = data[n:] "
   ],
   "outputs": [],
   "execution_count": 9
  },
  {
   "cell_type": "code",
   "id": "ce4570c9",
   "metadata": {
    "ExecuteTime": {
     "end_time": "2025-06-20T05:38:06.701760Z",
     "start_time": "2025-06-20T05:38:06.696836Z"
    }
   },
   "source": [
    "# chunk = block\n",
    "block_size = 8\n",
    "train_data[:block_size+1]"
   ],
   "outputs": [
    {
     "data": {
      "text/plain": [
       "tensor([18, 47, 56, 57, 58,  1, 15, 47, 58])"
      ]
     },
     "execution_count": 10,
     "metadata": {},
     "output_type": "execute_result"
    }
   ],
   "execution_count": 10
  },
  {
   "cell_type": "code",
   "id": "688c3201",
   "metadata": {
    "ExecuteTime": {
     "end_time": "2025-06-20T05:38:06.733913Z",
     "start_time": "2025-06-20T05:38:06.726847Z"
    }
   },
   "source": [
    "x = train_data[:block_size] # inputs to the transformer\n",
    "y = train_data[1:block_size+1]  \n",
    "for t in range(block_size):\n",
    "    context = x[:t+1]   \n",
    "    target = y[t]\n",
    "    print(f'when input is {context} the target : ', {target})"
   ],
   "outputs": [
    {
     "name": "stdout",
     "output_type": "stream",
     "text": [
      "when input is tensor([18]) the target :  {tensor(47)}\n",
      "when input is tensor([18, 47]) the target :  {tensor(56)}\n",
      "when input is tensor([18, 47, 56]) the target :  {tensor(57)}\n",
      "when input is tensor([18, 47, 56, 57]) the target :  {tensor(58)}\n",
      "when input is tensor([18, 47, 56, 57, 58]) the target :  {tensor(1)}\n",
      "when input is tensor([18, 47, 56, 57, 58,  1]) the target :  {tensor(15)}\n",
      "when input is tensor([18, 47, 56, 57, 58,  1, 15]) the target :  {tensor(47)}\n",
      "when input is tensor([18, 47, 56, 57, 58,  1, 15, 47]) the target :  {tensor(58)}\n"
     ]
    }
   ],
   "execution_count": 11
  },
  {
   "cell_type": "code",
   "id": "5b511cb4",
   "metadata": {
    "ExecuteTime": {
     "end_time": "2025-06-20T05:38:06.782404Z",
     "start_time": "2025-06-20T05:38:06.768464Z"
    }
   },
   "source": [
    "torch.manual_seed(1337)\n",
    "batch_size = 4 # how many independent sequences will we process in parallel?\n",
    "block_size = 8 # what is maximum context length for predictions?\n",
    "\n",
    "def get_batch(split):\n",
    "    # generate a small batch of data of inputs x and targets y\n",
    "    # data는 여기서 불러온다.\n",
    "    data = train_data if split == 'train' else val_data\n",
    "    ix = torch.randint(len(data) - block_size, (batch_size,)) # (high, size)\n",
    "    x = torch.stack([data[i:i+block_size] for i in ix])\n",
    "    y = torch.stack([data[i+1:i+block_size+1] for i in ix])\n",
    "\n",
    "    # return (batch_size) x (block_size) tensor = 4 * 8 \n",
    "    return x, y\n",
    "\n",
    "xb, yb = get_batch('train')\n",
    "print('input:')\n",
    "print(xb.shape)\n",
    "print(xb)\n",
    "print('target:')\n",
    "print(yb.shape)\n",
    "print(yb)\n",
    "\n",
    "print('----')\n",
    "\n",
    "for b in range(batch_size): # batch dimension\n",
    "    for t in range(block_size): # time dimension\n",
    "        context = xb[b, :t+1]\n",
    "        target = yb[b,t]\n",
    "        print(f'when input is {context.tolist()} the target : {target}')\n"
   ],
   "outputs": [
    {
     "name": "stdout",
     "output_type": "stream",
     "text": [
      "input:\n",
      "torch.Size([4, 8])\n",
      "tensor([[24, 43, 58,  5, 57,  1, 46, 43],\n",
      "        [44, 53, 56,  1, 58, 46, 39, 58],\n",
      "        [52, 58,  1, 58, 46, 39, 58,  1],\n",
      "        [25, 17, 27, 10,  0, 21,  1, 54]])\n",
      "target:\n",
      "torch.Size([4, 8])\n",
      "tensor([[43, 58,  5, 57,  1, 46, 43, 39],\n",
      "        [53, 56,  1, 58, 46, 39, 58,  1],\n",
      "        [58,  1, 58, 46, 39, 58,  1, 46],\n",
      "        [17, 27, 10,  0, 21,  1, 54, 39]])\n",
      "----\n",
      "when input is [24] the target : 43\n",
      "when input is [24, 43] the target : 58\n",
      "when input is [24, 43, 58] the target : 5\n",
      "when input is [24, 43, 58, 5] the target : 57\n",
      "when input is [24, 43, 58, 5, 57] the target : 1\n",
      "when input is [24, 43, 58, 5, 57, 1] the target : 46\n",
      "when input is [24, 43, 58, 5, 57, 1, 46] the target : 43\n",
      "when input is [24, 43, 58, 5, 57, 1, 46, 43] the target : 39\n",
      "when input is [44] the target : 53\n",
      "when input is [44, 53] the target : 56\n",
      "when input is [44, 53, 56] the target : 1\n",
      "when input is [44, 53, 56, 1] the target : 58\n",
      "when input is [44, 53, 56, 1, 58] the target : 46\n",
      "when input is [44, 53, 56, 1, 58, 46] the target : 39\n",
      "when input is [44, 53, 56, 1, 58, 46, 39] the target : 58\n",
      "when input is [44, 53, 56, 1, 58, 46, 39, 58] the target : 1\n",
      "when input is [52] the target : 58\n",
      "when input is [52, 58] the target : 1\n",
      "when input is [52, 58, 1] the target : 58\n",
      "when input is [52, 58, 1, 58] the target : 46\n",
      "when input is [52, 58, 1, 58, 46] the target : 39\n",
      "when input is [52, 58, 1, 58, 46, 39] the target : 58\n",
      "when input is [52, 58, 1, 58, 46, 39, 58] the target : 1\n",
      "when input is [52, 58, 1, 58, 46, 39, 58, 1] the target : 46\n",
      "when input is [25] the target : 17\n",
      "when input is [25, 17] the target : 27\n",
      "when input is [25, 17, 27] the target : 10\n",
      "when input is [25, 17, 27, 10] the target : 0\n",
      "when input is [25, 17, 27, 10, 0] the target : 21\n",
      "when input is [25, 17, 27, 10, 0, 21] the target : 1\n",
      "when input is [25, 17, 27, 10, 0, 21, 1] the target : 54\n",
      "when input is [25, 17, 27, 10, 0, 21, 1, 54] the target : 39\n"
     ]
    }
   ],
   "execution_count": 12
  },
  {
   "cell_type": "code",
   "id": "c30d830c",
   "metadata": {
    "ExecuteTime": {
     "end_time": "2025-06-20T05:38:06.846119Z",
     "start_time": "2025-06-20T05:38:06.841152Z"
    }
   },
   "source": [
    "print(xb) # our input to the transformer "
   ],
   "outputs": [
    {
     "name": "stdout",
     "output_type": "stream",
     "text": [
      "tensor([[24, 43, 58,  5, 57,  1, 46, 43],\n",
      "        [44, 53, 56,  1, 58, 46, 39, 58],\n",
      "        [52, 58,  1, 58, 46, 39, 58,  1],\n",
      "        [25, 17, 27, 10,  0, 21,  1, 54]])\n"
     ]
    }
   ],
   "execution_count": 13
  },
  {
   "cell_type": "markdown",
   "id": "165c9751",
   "metadata": {},
   "source": [
    "### simplest baseline : bigram language model, loss, geeration"
   ]
  },
  {
   "cell_type": "code",
   "id": "3f3de80e",
   "metadata": {
    "ExecuteTime": {
     "end_time": "2025-06-20T05:38:06.948102Z",
     "start_time": "2025-06-20T05:38:06.918976Z"
    }
   },
   "source": [
    "import torch\n",
    "import torch.nn as nn \n",
    "from torch.nn import functional as F\n",
    "\n",
    "torch.manual_seed(1337)  \n",
    "\n",
    "class BigramLanguageModel(nn.Module):\n",
    "\n",
    "    def __init__(self, vocab_size):\n",
    "        super().__init__()\n",
    "        # each token directly reads off the logits for the next token from a lookup table\n",
    "        self.token_embedding_table = nn.Embedding(vocab_size, vocab_size)\n",
    "\n",
    "    def forward(self, idx, targets=None):\n",
    "        # idx and targets are both (B,T) tensor of integers\n",
    "        logits = self.token_embedding_table(idx) # (B,T,C) \n",
    "        # B : batch size\n",
    "        # T : Time -> block size\n",
    "        # C : channel, at this situations, vocab_size \n",
    "\n",
    "        if targets is None:\n",
    "            loss = None\n",
    "        else:\n",
    "            B, T, C = logits.shape\n",
    "            logits = logits.view(B*T,C) # 2 dimensional\n",
    "            targets = targets.view(B*T) # 1 dimensional\n",
    "            loss = F.cross_entropy(logits, targets) # negative log likelihood\n",
    "        return logits, loss\n",
    "    \n",
    "    def generate(self, idx, max_new_tokens):\n",
    "        # idx is (B,T) array of indices in the current context\n",
    "        for _ in range(max_new_tokens):\n",
    "            # get the predictions\n",
    "            # self(idx)는 뭘까?\n",
    "            # nn.Module을 상속받았기에, 자동으로 __call__ 메서드를 갖으며,\n",
    "            # forward 메서드로 연결된다.\n",
    "            # 즉, self(idx) == self.forward(idx)\n",
    "            logits, loss = self(idx)\n",
    "            # focus only on the last time step, \n",
    "            # we pluck out last element at the time dimension\n",
    "            logits = logits[:, -1, :] # becomes (B,C)\n",
    "            # apply softmax to get probabilities (vocab들의 분포 확률을 구한다.)\n",
    "            probs = F.softmax(logits, dim=-1) # (B,C)\n",
    "            # sample from the distribution (distribution에서 뽑는다.)\n",
    "            idx_next = torch.multinomial(probs, num_samples=1) # (B,1)\n",
    "            # append sampled index to the running sequence (뽑은 결과를 idx에 새로 추가한다.)\n",
    "            idx = torch.cat((idx,idx_next), dim=1)  # (B, T+1)\n",
    "        return idx\n",
    "    \n",
    "model = BigramLanguageModel(vocab_size)\n",
    "logits, loss = model(xb,yb)\n",
    "print(logits.shape)    \n",
    "print(loss)\n",
    "\n",
    "idx = torch.zeros((1,1), dtype=torch.long)\n",
    "print(decode(model.generate(idx = torch.zeros((1,1),dtype=torch.long),max_new_tokens=100)[0].tolist()))"
   ],
   "outputs": [
    {
     "name": "stdout",
     "output_type": "stream",
     "text": [
      "torch.Size([32, 65])\n",
      "tensor(4.8786, grad_fn=<NllLossBackward0>)\n",
      "\n",
      "Sr?qP-QWktXoL&jLDJgOLVz'RIoDqHdhsV&vLLxatjscMpwLERSPyao.qfzs$Ys$zF-w,;eEkzxjgCKFChs!iWW.ObzDnxA Ms$3\n"
     ]
    }
   ],
   "execution_count": 14
  },
  {
   "cell_type": "code",
   "id": "64ebe1fb",
   "metadata": {
    "ExecuteTime": {
     "end_time": "2025-06-20T05:38:08.191220Z",
     "start_time": "2025-06-20T05:38:06.978516Z"
    }
   },
   "source": [
    "# create a PyTorch optimizer\n",
    "optimizer = torch.optim.AdamW(model.parameters(), lr = 1e-3)"
   ],
   "outputs": [],
   "execution_count": 15
  },
  {
   "cell_type": "code",
   "id": "c82acd03",
   "metadata": {
    "ExecuteTime": {
     "end_time": "2025-06-20T05:39:12.619282Z",
     "start_time": "2025-06-20T05:39:10.992086Z"
    }
   },
   "source": [
    "batch_size = 32\n",
    "for steps in range(1000):\n",
    "    # sample a batch of data\n",
    "    xb, yb = get_batch('train')\n",
    "\n",
    "    # evaluate the loss\n",
    "    logits, loss = model(xb, yb)\n",
    "    optimizer.zero_grad(set_to_none=True)\n",
    "    loss.backward()\n",
    "    optimizer.step()\n",
    "\n",
    "print(loss.item())"
   ],
   "outputs": [
    {
     "name": "stdout",
     "output_type": "stream",
     "text": [
      "2.5059468746185303\n"
     ]
    }
   ],
   "execution_count": 19
  },
  {
   "metadata": {
    "ExecuteTime": {
     "end_time": "2025-06-20T05:57:57.133637Z",
     "start_time": "2025-06-20T05:57:57.053958Z"
    }
   },
   "cell_type": "code",
   "source": "print(decode(model.generate(idx = torch.zeros((1,1),dtype=torch.long),max_new_tokens=500)[0].tolist()))",
   "id": "91f418ecf32d57fa",
   "outputs": [
    {
     "name": "stdout",
     "output_type": "stream",
     "text": [
      "\n",
      "JqIIrdithomfas\n",
      "ARDUPLEVw nkkOMyiy p'd?w teno t me,,\n",
      "VIsucel INCENA-thathe zy n the ss TInyNue'mma!\n",
      "Qbbme nMm!\n",
      "Wh,\n",
      "\n",
      "NA3Scoulgdant\n",
      "If wiqun ar thie d\n",
      "mg t,\n",
      "Q\n",
      "NAfaup, &MNI3QKINu'd cear3Tbore c'lasseASA d., rthifr den,\n",
      "l wp mavexzqum HA muesu, al, fainkn batt.\n",
      "\n",
      "L$3licqf, slou d Elotim:CK&y;whalfau-, eDWghzI maZGSin.\n",
      "Gluand mee.\n",
      "pNGeppbrIOKANDYONAR:Miven!UENRlli-relvoubt nsomy; orh men;\n",
      "K: is s wino, thedumy seldeanuly, chacPJut f ds ppx;\n",
      "SCEYou cexu my,m.\n",
      "NduXrdud fCI:Kodhs whete\n",
      "Sinorq-thO n g!othi\n"
     ]
    }
   ],
   "execution_count": 23
  },
  {
   "metadata": {},
   "cell_type": "markdown",
   "source": "### The mathematical trick in self-attentionb",
   "id": "318ba068aa077c44"
  },
  {
   "metadata": {
    "ExecuteTime": {
     "end_time": "2025-06-24T02:17:57.026137Z",
     "start_time": "2025-06-24T02:17:55.316382Z"
    }
   },
   "cell_type": "code",
   "source": [
    "# consider the following toy example:\n",
    "import torch\n",
    "torch.manual_seed(1337)\n",
    "B,T,C = 4,8,2 # batch, time, channels\n",
    "x = torch.randn(B,T,C)\n",
    "x.shape"
   ],
   "id": "c621f6f381826a45",
   "outputs": [
    {
     "data": {
      "text/plain": [
       "torch.Size([4, 8, 2])"
      ]
     },
     "execution_count": 2,
     "metadata": {},
     "output_type": "execute_result"
    }
   ],
   "execution_count": 2
  },
  {
   "metadata": {
    "ExecuteTime": {
     "end_time": "2025-06-24T02:31:53.870717Z",
     "start_time": "2025-06-24T02:31:53.860791Z"
    }
   },
   "cell_type": "code",
   "source": [
    "# version 1\n",
    "# We want x[b, t] = mean_{i <=t} x[b,i]\n",
    "# 위 뜻은, 정보 전달이(여기선 단순히 평균으로 전달) 현재 토큰 기준으로, 오직 이전 순서의 토큰과 이루어져야한다는 것이다.\n",
    "\n",
    "xbow =  torch.zeros((B,T,C))\n",
    "for b in range(B):\n",
    "    for t in range(T):\n",
    "        xprev = x[b, :t+1] # (t, C)\n",
    "        xbow[b,t] = torch.mean(xprev, dim = 0)"
   ],
   "id": "76b7d760018c0ca1",
   "outputs": [],
   "execution_count": 4
  },
  {
   "metadata": {
    "ExecuteTime": {
     "end_time": "2025-06-24T02:54:06.445165Z",
     "start_time": "2025-06-24T02:54:06.440163Z"
    }
   },
   "cell_type": "code",
   "source": [
    "# version 2\n",
    "# more efficient way : using matrix multiply as weighted aggregation\n",
    "wei = torch.tril(torch.ones(T,T))\n",
    "wei = wei / wei.sum(dim=1, keepdim=True)\n",
    "xbow2 = wei @ x # (1,T,T) @ (B,T,C) ---> (B,T,C)\n",
    "\n",
    "# broad casting의 원칙 1 : 비어있는 차원을 1로 추가한다.\n",
    "# ex) (T,T) -> (1,T,T)\n",
    "# broad casting의 원칙 2 : 두 차원의 연산중에 있어서, 적어도 차원 하나는 값이 같아야 한다."
   ],
   "id": "6da047b8ad3dddac",
   "outputs": [],
   "execution_count": 18
  },
  {
   "metadata": {
    "ExecuteTime": {
     "end_time": "2025-06-24T02:54:08.885703Z",
     "start_time": "2025-06-24T02:54:08.881025Z"
    }
   },
   "cell_type": "code",
   "source": [
    "torch.allclose(xbow, xbow2)\n",
    "# false가 나온다면 부동소숫점 연산 때문일듯."
   ],
   "id": "53799cde38565331",
   "outputs": [
    {
     "data": {
      "text/plain": [
       "False"
      ]
     },
     "execution_count": 19,
     "metadata": {},
     "output_type": "execute_result"
    }
   ],
   "execution_count": 19
  },
  {
   "metadata": {
    "ExecuteTime": {
     "end_time": "2025-06-24T03:07:19.220542Z",
     "start_time": "2025-06-24T03:07:19.216150Z"
    }
   },
   "cell_type": "code",
   "source": [
    "wei = torch.zeros((T,T))\n",
    "wei = wei.masked_fill(mask = tril == 0, value = float('-inf')) # Fills elements of self tensor with `value` where `mask` is True\n",
    "wei"
   ],
   "id": "438255cb3756be63",
   "outputs": [
    {
     "data": {
      "text/plain": [
       "tensor([[0., -inf, -inf, -inf, -inf, -inf, -inf, -inf],\n",
       "        [0., 0., -inf, -inf, -inf, -inf, -inf, -inf],\n",
       "        [0., 0., 0., -inf, -inf, -inf, -inf, -inf],\n",
       "        [0., 0., 0., 0., -inf, -inf, -inf, -inf],\n",
       "        [0., 0., 0., 0., 0., -inf, -inf, -inf],\n",
       "        [0., 0., 0., 0., 0., 0., -inf, -inf],\n",
       "        [0., 0., 0., 0., 0., 0., 0., -inf],\n",
       "        [0., 0., 0., 0., 0., 0., 0., 0.]])"
      ]
     },
     "execution_count": 26,
     "metadata": {},
     "output_type": "execute_result"
    }
   ],
   "execution_count": 26
  },
  {
   "metadata": {
    "ExecuteTime": {
     "end_time": "2025-06-24T04:18:31.553218Z",
     "start_time": "2025-06-24T04:18:31.546241Z"
    }
   },
   "cell_type": "code",
   "source": [
    "# version 3 : use Softmax\n",
    "from torch.nn import functional as F\n",
    "tril = torch.tril(torch.ones(T,T))\n",
    "wei = torch.zeros((T,T))\n",
    "wei = wei.masked_fill(tril == 0, float('-inf'))\n",
    " # `dim = -1` means last dimension, i.e., dimension 1 for a (T,T) tensor."
   ],
   "id": "52cb6f50297746d5",
   "outputs": [],
   "execution_count": 34
  },
  {
   "metadata": {
    "ExecuteTime": {
     "end_time": "2025-06-24T04:18:32.909955Z",
     "start_time": "2025-06-24T04:18:32.896193Z"
    }
   },
   "cell_type": "code",
   "source": "wei",
   "id": "46ceeb84e4f4ad04",
   "outputs": [
    {
     "data": {
      "text/plain": [
       "tensor([[0., -inf, -inf, -inf, -inf, -inf, -inf, -inf],\n",
       "        [0., 0., -inf, -inf, -inf, -inf, -inf, -inf],\n",
       "        [0., 0., 0., -inf, -inf, -inf, -inf, -inf],\n",
       "        [0., 0., 0., 0., -inf, -inf, -inf, -inf],\n",
       "        [0., 0., 0., 0., 0., -inf, -inf, -inf],\n",
       "        [0., 0., 0., 0., 0., 0., -inf, -inf],\n",
       "        [0., 0., 0., 0., 0., 0., 0., -inf],\n",
       "        [0., 0., 0., 0., 0., 0., 0., 0.]])"
      ]
     },
     "execution_count": 35,
     "metadata": {},
     "output_type": "execute_result"
    }
   ],
   "execution_count": 35
  },
  {
   "metadata": {},
   "cell_type": "markdown",
   "source": [
    "$Softmax(x_i) =  \\frac{exp(x_i)}{\\sum_j{exp(x_j)}}$ 이므로,\n",
    "- '0' -> 1\n",
    "- '-inf'"
   ],
   "id": "8084587927949bac"
  },
  {
   "metadata": {},
   "cell_type": "code",
   "outputs": [],
   "execution_count": null,
   "source": [
    "wei = F.softmax(wei, dim=-1)\n",
    "xbow3 = wei @ x"
   ],
   "id": "8c494bba95c08f1a"
  },
  {
   "metadata": {},
   "cell_type": "markdown",
   "source": [
    "#### matrix multiply as weighted aggregation\n",
    "행렬 곱셈으로 평균을 구하는 trick"
   ],
   "id": "8c77fb393a5d98c7"
  },
  {
   "metadata": {
    "ExecuteTime": {
     "end_time": "2025-06-24T02:38:56.167717Z",
     "start_time": "2025-06-24T02:38:56.153672Z"
    }
   },
   "cell_type": "code",
   "source": "torch.tril(torch.ones(3,3)) # .tril : Returns the lower triangular part of the matrix",
   "id": "fe5e9b874855ff89",
   "outputs": [
    {
     "data": {
      "text/plain": [
       "tensor([[1., 0., 0.],\n",
       "        [1., 1., 0.],\n",
       "        [1., 1., 1.]])"
      ]
     },
     "execution_count": 9,
     "metadata": {},
     "output_type": "execute_result"
    }
   ],
   "execution_count": 9
  },
  {
   "metadata": {
    "ExecuteTime": {
     "end_time": "2025-06-24T02:42:23.954839Z",
     "start_time": "2025-06-24T02:42:23.945338Z"
    }
   },
   "cell_type": "code",
   "source": [
    "\n",
    "\n",
    "torch.manual_seed(42)\n",
    "a = torch.tril(torch.ones(3,3))\n",
    "a = a / torch.sum(a, dim = 1, keepdim = True)\n",
    "b = torch.randint(0, 10, (3,2)).float()\n",
    "c = a @ b\n",
    "print('a = ')\n",
    "print(a)\n",
    "print('--')\n",
    "print('b = ')\n",
    "print(b)\n",
    "print('--')\n",
    "print('c = ')\n",
    "print(c)"
   ],
   "id": "18ca07182ab62c4e",
   "outputs": [
    {
     "name": "stdout",
     "output_type": "stream",
     "text": [
      "a = \n",
      "tensor([[1.0000, 0.0000, 0.0000],\n",
      "        [0.5000, 0.5000, 0.0000],\n",
      "        [0.3333, 0.3333, 0.3333]])\n",
      "--\n",
      "b = \n",
      "tensor([[2., 7.],\n",
      "        [6., 4.],\n",
      "        [6., 5.]])\n",
      "--\n",
      "c = \n",
      "tensor([[2.0000, 7.0000],\n",
      "        [4.0000, 5.5000],\n",
      "        [4.6667, 5.3333]])\n"
     ]
    }
   ],
   "execution_count": 11
  }
 ],
 "metadata": {
  "kernelspec": {
   "display_name": ".venv",
   "language": "python",
   "name": "python3"
  },
  "language_info": {
   "codemirror_mode": {
    "name": "ipython",
    "version": 3
   },
   "file_extension": ".py",
   "mimetype": "text/x-python",
   "name": "python",
   "nbconvert_exporter": "python",
   "pygments_lexer": "ipython3",
   "version": "3.12.10"
  }
 },
 "nbformat": 4,
 "nbformat_minor": 5
}
