{
 "cells": [
  {
   "cell_type": "markdown",
   "id": "9cf57de6",
   "metadata": {},
   "source": [
    "## Reading, exploring data"
   ]
  },
  {
   "cell_type": "code",
   "id": "659d91c6",
   "metadata": {
    "ExecuteTime": {
     "end_time": "2025-07-02T01:40:21.994359Z",
     "start_time": "2025-07-02T01:40:21.587186Z"
    }
   },
   "source": [
    "# We always start with a dataset to train on. Let's download the tiny shakespeare dataset\n",
    "import urllib.request\n",
    "\n",
    "url = 'https://raw.githubusercontent.com/karpathy/char-rnn/master/data/tinyshakespeare/input.txt'\n",
    "filename = 'input.txt'\n",
    "\n",
    "# download file\n",
    "urllib.request.urlretrieve(url, filename)"
   ],
   "outputs": [
    {
     "data": {
      "text/plain": [
       "('input.txt', <http.client.HTTPMessage at 0x254d23eaff0>)"
      ]
     },
     "execution_count": 3,
     "metadata": {},
     "output_type": "execute_result"
    }
   ],
   "execution_count": 3
  },
  {
   "cell_type": "code",
   "id": "431ddf89",
   "metadata": {
    "ExecuteTime": {
     "end_time": "2025-07-02T01:40:22.052964Z",
     "start_time": "2025-07-02T01:40:22.048386Z"
    }
   },
   "source": [
    "# read it in to inspect it\n",
    "with open(filename, 'r', encoding='utf-8') as f:\n",
    "    text = f.read()"
   ],
   "outputs": [],
   "execution_count": 4
  },
  {
   "cell_type": "code",
   "id": "84d1eeee",
   "metadata": {
    "ExecuteTime": {
     "end_time": "2025-07-02T01:40:22.115727Z",
     "start_time": "2025-07-02T01:40:22.110992Z"
    }
   },
   "source": [
    "print('length of dataset in characters : ', len(text))"
   ],
   "outputs": [
    {
     "name": "stdout",
     "output_type": "stream",
     "text": [
      "length of dataset in characters :  1115394\n"
     ]
    }
   ],
   "execution_count": 5
  },
  {
   "cell_type": "code",
   "id": "0ae879aa",
   "metadata": {
    "ExecuteTime": {
     "end_time": "2025-07-02T01:40:22.193462Z",
     "start_time": "2025-07-02T01:40:22.188791Z"
    }
   },
   "source": [
    "# let's look at the first 1000 charaacters\n",
    "print(text[:300])"
   ],
   "outputs": [
    {
     "name": "stdout",
     "output_type": "stream",
     "text": [
      "First Citizen:\n",
      "Before we proceed any further, hear me speak.\n",
      "\n",
      "All:\n",
      "Speak, speak.\n",
      "\n",
      "First Citizen:\n",
      "You are all resolved rather to die than to famish?\n",
      "\n",
      "All:\n",
      "Resolved. resolved.\n",
      "\n",
      "First Citizen:\n",
      "First, you know Caius Marcius is chief enemy to the people.\n",
      "\n",
      "All:\n",
      "We know't, we know't.\n",
      "\n",
      "First Citizen:\n",
      "Let us\n"
     ]
    }
   ],
   "execution_count": 6
  },
  {
   "cell_type": "code",
   "id": "736ee46d",
   "metadata": {
    "ExecuteTime": {
     "end_time": "2025-07-02T01:40:22.246348Z",
     "start_time": "2025-07-02T01:40:22.238186Z"
    }
   },
   "source": [
    "# here are all the unique characters that occur in this text\n",
    "chars = sorted(list(set(text)))\n",
    "vocab_size = len(chars)\n",
    "print(''.join(chars))\n",
    "print('vocab size :', vocab_size)"
   ],
   "outputs": [
    {
     "name": "stdout",
     "output_type": "stream",
     "text": [
      "\n",
      " !$&',-.3:;?ABCDEFGHIJKLMNOPQRSTUVWXYZabcdefghijklmnopqrstuvwxyz\n",
      "vocab size : 65\n"
     ]
    }
   ],
   "execution_count": 7
  },
  {
   "cell_type": "markdown",
   "id": "803ec3f5",
   "metadata": {},
   "source": [
    "## Tokenization, train / val split"
   ]
  },
  {
   "cell_type": "code",
   "id": "04f423b5",
   "metadata": {
    "ExecuteTime": {
     "end_time": "2025-07-02T01:40:22.291782Z",
     "start_time": "2025-07-02T01:40:22.287516Z"
    }
   },
   "source": [
    "#create a mapping from characters to integers\n",
    "stoi = {ch:i for i,ch in enumerate(chars)}\n",
    "itos = {i:ch for i,ch in enumerate(chars)}\n",
    "encode = lambda s: [stoi[c] for c in s] # encoder: take a string, output a list of integers\n",
    "decode = lambda l: ''.join([itos[i] for i in l]) # decoder : take a list of intergers, output a string\n",
    "\n",
    "print(encode('hii there'))\n",
    "print(decode(encode('hii there')))"
   ],
   "outputs": [
    {
     "name": "stdout",
     "output_type": "stream",
     "text": [
      "[46, 47, 47, 1, 58, 46, 43, 56, 43]\n",
      "hii there\n"
     ]
    }
   ],
   "execution_count": 8
  },
  {
   "cell_type": "code",
   "id": "6603f4ed",
   "metadata": {
    "ExecuteTime": {
     "end_time": "2025-07-02T01:40:27.015063Z",
     "start_time": "2025-07-02T01:40:22.342045Z"
    }
   },
   "source": [
    "# let's now encode the entire text dataset and store it into a torch.tensor\n",
    "import torch # we use PyTorch\n",
    "data = torch.tensor(encode(text), dtype=torch.long)\n",
    "print(data.shape, data.dtype)\n",
    "print(data[:100]) # the 1000 characters we looked at earlier will to the GPT look like this"
   ],
   "outputs": [
    {
     "name": "stdout",
     "output_type": "stream",
     "text": [
      "torch.Size([1115394]) torch.int64\n",
      "tensor([18, 47, 56, 57, 58,  1, 15, 47, 58, 47, 64, 43, 52, 10,  0, 14, 43, 44,\n",
      "        53, 56, 43,  1, 61, 43,  1, 54, 56, 53, 41, 43, 43, 42,  1, 39, 52, 63,\n",
      "         1, 44, 59, 56, 58, 46, 43, 56,  6,  1, 46, 43, 39, 56,  1, 51, 43,  1,\n",
      "        57, 54, 43, 39, 49,  8,  0,  0, 13, 50, 50, 10,  0, 31, 54, 43, 39, 49,\n",
      "         6,  1, 57, 54, 43, 39, 49,  8,  0,  0, 18, 47, 56, 57, 58,  1, 15, 47,\n",
      "        58, 47, 64, 43, 52, 10,  0, 37, 53, 59])\n"
     ]
    }
   ],
   "execution_count": 9
  },
  {
   "cell_type": "code",
   "id": "f1977841",
   "metadata": {
    "ExecuteTime": {
     "end_time": "2025-07-02T01:40:27.026856Z",
     "start_time": "2025-07-02T01:40:27.023065Z"
    }
   },
   "source": [
    "# Let's now split up the data into trainn and validation sets\n",
    "n = int(0.9 * len(data)) # first 90% will be train, rest val\n",
    "train_data = data[:n]\n",
    "val_data = data[n:] "
   ],
   "outputs": [],
   "execution_count": 10
  },
  {
   "cell_type": "code",
   "id": "ce4570c9",
   "metadata": {
    "ExecuteTime": {
     "end_time": "2025-07-02T01:40:27.050871Z",
     "start_time": "2025-07-02T01:40:27.045224Z"
    }
   },
   "source": [
    "# chunk = block\n",
    "block_size = 8\n",
    "train_data[:block_size+1]"
   ],
   "outputs": [
    {
     "data": {
      "text/plain": [
       "tensor([18, 47, 56, 57, 58,  1, 15, 47, 58])"
      ]
     },
     "execution_count": 11,
     "metadata": {},
     "output_type": "execute_result"
    }
   ],
   "execution_count": 11
  },
  {
   "cell_type": "code",
   "id": "688c3201",
   "metadata": {
    "ExecuteTime": {
     "end_time": "2025-07-02T01:40:27.102570Z",
     "start_time": "2025-07-02T01:40:27.093748Z"
    }
   },
   "source": [
    "x = train_data[:block_size] # inputs to the transformer\n",
    "y = train_data[1:block_size+1]  \n",
    "for t in range(block_size):\n",
    "    context = x[:t+1]   \n",
    "    target = y[t]\n",
    "    print(f'when input is {context} the target : ', {target})"
   ],
   "outputs": [
    {
     "name": "stdout",
     "output_type": "stream",
     "text": [
      "when input is tensor([18]) the target :  {tensor(47)}\n",
      "when input is tensor([18, 47]) the target :  {tensor(56)}\n",
      "when input is tensor([18, 47, 56]) the target :  {tensor(57)}\n",
      "when input is tensor([18, 47, 56, 57]) the target :  {tensor(58)}\n",
      "when input is tensor([18, 47, 56, 57, 58]) the target :  {tensor(1)}\n",
      "when input is tensor([18, 47, 56, 57, 58,  1]) the target :  {tensor(15)}\n",
      "when input is tensor([18, 47, 56, 57, 58,  1, 15]) the target :  {tensor(47)}\n",
      "when input is tensor([18, 47, 56, 57, 58,  1, 15, 47]) the target :  {tensor(58)}\n"
     ]
    }
   ],
   "execution_count": 12
  },
  {
   "cell_type": "code",
   "id": "5b511cb4",
   "metadata": {
    "ExecuteTime": {
     "end_time": "2025-07-02T01:40:27.167600Z",
     "start_time": "2025-07-02T01:40:27.141065Z"
    }
   },
   "source": [
    "torch.manual_seed(1337)\n",
    "batch_size = 4 # how many independent sequences will we process in parallel?\n",
    "block_size = 8 # what is maximum context length for predictions?\n",
    "\n",
    "def get_batch(split):\n",
    "    # generate a small batch of data of inputs x and targets y\n",
    "    # data는 여기서 불러온다.\n",
    "    data = train_data if split == 'train' else val_data\n",
    "    ix = torch.randint(len(data) - block_size, (batch_size,)) # (high, size)\n",
    "    x = torch.stack([data[i:i+block_size] for i in ix])\n",
    "    y = torch.stack([data[i+1:i+block_size+1] for i in ix])\n",
    "\n",
    "    # return (batch_size) x (block_size) tensor = 4 * 8 \n",
    "    return x, y\n",
    "\n",
    "xb, yb = get_batch('train')\n",
    "print('input:')\n",
    "print(xb.shape)\n",
    "print(xb)\n",
    "print('target:')\n",
    "print(yb.shape)\n",
    "print(yb)\n",
    "\n",
    "print('----')\n",
    "\n",
    "for b in range(batch_size): # batch dimension\n",
    "    for t in range(block_size): # time dimension\n",
    "        context = xb[b, :t+1]\n",
    "        target = yb[b,t]\n",
    "        print(f'when input is {context.tolist()} the target : {target}')\n"
   ],
   "outputs": [
    {
     "name": "stdout",
     "output_type": "stream",
     "text": [
      "input:\n",
      "torch.Size([4, 8])\n",
      "tensor([[24, 43, 58,  5, 57,  1, 46, 43],\n",
      "        [44, 53, 56,  1, 58, 46, 39, 58],\n",
      "        [52, 58,  1, 58, 46, 39, 58,  1],\n",
      "        [25, 17, 27, 10,  0, 21,  1, 54]])\n",
      "target:\n",
      "torch.Size([4, 8])\n",
      "tensor([[43, 58,  5, 57,  1, 46, 43, 39],\n",
      "        [53, 56,  1, 58, 46, 39, 58,  1],\n",
      "        [58,  1, 58, 46, 39, 58,  1, 46],\n",
      "        [17, 27, 10,  0, 21,  1, 54, 39]])\n",
      "----\n",
      "when input is [24] the target : 43\n",
      "when input is [24, 43] the target : 58\n",
      "when input is [24, 43, 58] the target : 5\n",
      "when input is [24, 43, 58, 5] the target : 57\n",
      "when input is [24, 43, 58, 5, 57] the target : 1\n",
      "when input is [24, 43, 58, 5, 57, 1] the target : 46\n",
      "when input is [24, 43, 58, 5, 57, 1, 46] the target : 43\n",
      "when input is [24, 43, 58, 5, 57, 1, 46, 43] the target : 39\n",
      "when input is [44] the target : 53\n",
      "when input is [44, 53] the target : 56\n",
      "when input is [44, 53, 56] the target : 1\n",
      "when input is [44, 53, 56, 1] the target : 58\n",
      "when input is [44, 53, 56, 1, 58] the target : 46\n",
      "when input is [44, 53, 56, 1, 58, 46] the target : 39\n",
      "when input is [44, 53, 56, 1, 58, 46, 39] the target : 58\n",
      "when input is [44, 53, 56, 1, 58, 46, 39, 58] the target : 1\n",
      "when input is [52] the target : 58\n",
      "when input is [52, 58] the target : 1\n",
      "when input is [52, 58, 1] the target : 58\n",
      "when input is [52, 58, 1, 58] the target : 46\n",
      "when input is [52, 58, 1, 58, 46] the target : 39\n",
      "when input is [52, 58, 1, 58, 46, 39] the target : 58\n",
      "when input is [52, 58, 1, 58, 46, 39, 58] the target : 1\n",
      "when input is [52, 58, 1, 58, 46, 39, 58, 1] the target : 46\n",
      "when input is [25] the target : 17\n",
      "when input is [25, 17] the target : 27\n",
      "when input is [25, 17, 27] the target : 10\n",
      "when input is [25, 17, 27, 10] the target : 0\n",
      "when input is [25, 17, 27, 10, 0] the target : 21\n",
      "when input is [25, 17, 27, 10, 0, 21] the target : 1\n",
      "when input is [25, 17, 27, 10, 0, 21, 1] the target : 54\n",
      "when input is [25, 17, 27, 10, 0, 21, 1, 54] the target : 39\n"
     ]
    }
   ],
   "execution_count": 13
  },
  {
   "cell_type": "code",
   "id": "c30d830c",
   "metadata": {
    "ExecuteTime": {
     "end_time": "2025-07-02T01:40:27.188304Z",
     "start_time": "2025-07-02T01:40:27.184578Z"
    }
   },
   "source": [
    "print(xb) # our input to the transformer "
   ],
   "outputs": [
    {
     "name": "stdout",
     "output_type": "stream",
     "text": [
      "tensor([[24, 43, 58,  5, 57,  1, 46, 43],\n",
      "        [44, 53, 56,  1, 58, 46, 39, 58],\n",
      "        [52, 58,  1, 58, 46, 39, 58,  1],\n",
      "        [25, 17, 27, 10,  0, 21,  1, 54]])\n"
     ]
    }
   ],
   "execution_count": 14
  },
  {
   "cell_type": "markdown",
   "id": "165c9751",
   "metadata": {},
   "source": [
    "### simplest baseline : bigram language model, loss, geeration"
   ]
  },
  {
   "cell_type": "code",
   "id": "3f3de80e",
   "metadata": {
    "ExecuteTime": {
     "end_time": "2025-07-02T01:40:27.321346Z",
     "start_time": "2025-07-02T01:40:27.221033Z"
    }
   },
   "source": [
    "import torch\n",
    "import torch.nn as nn \n",
    "from torch.nn import functional as F\n",
    "\n",
    "torch.manual_seed(1337)  \n",
    "\n",
    "class BigramLanguageModel(nn.Module):\n",
    "\n",
    "    def __init__(self, vocab_size):\n",
    "        super().__init__()\n",
    "        # each token directly reads off the logits for the next token from a lookup table\n",
    "        self.token_embedding_table = nn.Embedding(vocab_size, vocab_size)\n",
    "\n",
    "    def forward(self, idx, targets=None):\n",
    "        # idx and targets are both (B,T) tensor of integers\n",
    "        logits = self.token_embedding_table(idx) # (B,T,C) \n",
    "        # B : batch size\n",
    "        # T : Time -> block size\n",
    "        # C : channel, at this situations, vocab_size \n",
    "\n",
    "        if targets is None:\n",
    "            loss = None\n",
    "        else:\n",
    "            B, T, C = logits.shape\n",
    "            logits = logits.view(B*T,C) # 2 dimensional\n",
    "            targets = targets.view(B*T) # 1 dimensional\n",
    "            loss = F.cross_entropy(logits, targets) # negative log likelihood\n",
    "        return logits, loss\n",
    "    \n",
    "    def generate(self, idx, max_new_tokens):\n",
    "        # idx is (B,T) array of indices in the current context\n",
    "        for _ in range(max_new_tokens):\n",
    "            # get the predictions\n",
    "            # self(idx)는 뭘까?\n",
    "            # nn.Module을 상속받았기에, 자동으로 __call__ 메서드를 갖으며,\n",
    "            # forward 메서드로 연결된다.\n",
    "            # 즉, self(idx) == self.forward(idx)\n",
    "            logits, loss = self(idx)\n",
    "            # focus only on the last time step, \n",
    "            # we pluck out last element at the time dimension\n",
    "            logits = logits[:, -1, :] # becomes (B,C)\n",
    "            # apply softmax to get probabilities (vocab들의 분포 확률을 구한다.)\n",
    "            probs = F.softmax(logits, dim=-1) # (B,C)\n",
    "            # sample from the distribution (distribution에서 뽑는다.)\n",
    "            idx_next = torch.multinomial(probs, num_samples=1) # (B,1)\n",
    "            # append sampled index to the running sequence (뽑은 결과를 idx에 새로 추가한다.)\n",
    "            idx = torch.cat((idx,idx_next), dim=1)  # (B, T+1)\n",
    "        return idx\n",
    "    \n",
    "model = BigramLanguageModel(vocab_size)\n",
    "logits, loss = model(xb,yb)\n",
    "print(logits.shape)    \n",
    "print(loss)\n",
    "\n",
    "idx = torch.zeros((1,1), dtype=torch.long)\n",
    "print(decode(model.generate(idx = torch.zeros((1,1),dtype=torch.long),max_new_tokens=100)[0].tolist()))"
   ],
   "outputs": [
    {
     "name": "stdout",
     "output_type": "stream",
     "text": [
      "torch.Size([32, 65])\n",
      "tensor(4.8786, grad_fn=<NllLossBackward0>)\n",
      "\n",
      "Sr?qP-QWktXoL&jLDJgOLVz'RIoDqHdhsV&vLLxatjscMpwLERSPyao.qfzs$Ys$zF-w,;eEkzxjgCKFChs!iWW.ObzDnxA Ms$3\n"
     ]
    }
   ],
   "execution_count": 15
  },
  {
   "cell_type": "code",
   "id": "64ebe1fb",
   "metadata": {
    "ExecuteTime": {
     "end_time": "2025-07-02T01:40:28.753566Z",
     "start_time": "2025-07-02T01:40:27.336343Z"
    }
   },
   "source": [
    "# create a PyTorch optimizer\n",
    "optimizer = torch.optim.AdamW(model.parameters(), lr = 1e-3)"
   ],
   "outputs": [],
   "execution_count": 16
  },
  {
   "cell_type": "code",
   "id": "c82acd03",
   "metadata": {
    "ExecuteTime": {
     "end_time": "2025-07-02T01:40:30.480329Z",
     "start_time": "2025-07-02T01:40:28.769344Z"
    }
   },
   "source": [
    "batch_size = 32\n",
    "for steps in range(1000):\n",
    "    # sample a batch of data\n",
    "    xb, yb = get_batch('train')\n",
    "\n",
    "    # evaluate the loss\n",
    "    logits, loss = model(xb, yb)\n",
    "    optimizer.zero_grad(set_to_none=True)\n",
    "    loss.backward()\n",
    "    optimizer.step()\n",
    "\n",
    "print(loss.item())"
   ],
   "outputs": [
    {
     "name": "stdout",
     "output_type": "stream",
     "text": [
      "3.7218432426452637\n"
     ]
    }
   ],
   "execution_count": 17
  },
  {
   "metadata": {
    "ExecuteTime": {
     "end_time": "2025-07-02T01:40:30.575342Z",
     "start_time": "2025-07-02T01:40:30.498032Z"
    }
   },
   "cell_type": "code",
   "source": "print(decode(model.generate(idx = torch.zeros((1,1),dtype=torch.long),max_new_tokens=500)[0].tolist()))",
   "id": "91f418ecf32d57fa",
   "outputs": [
    {
     "name": "stdout",
     "output_type": "stream",
     "text": [
      "\n",
      "olylvLLko'TMyatyIoconxad.?-tNSqYPsx&bF.oiR;BD$dZBMZv'K f bRSmIKptRPly:AUC&$zLK,qUEy&Ay;ZxjKVhmrdagC-bTop-QJe.H?x\n",
      "JGF&pwst-P sti.hlEsu;w:w a BG:tLhMk,epdhlay'sVzLq--ERwXUzDnq-bn czXxxI&V&Pynnl,s,Ioto!uvixwC-IJXElrgm C-.bcoCPJ\n",
      "IMphsevhO AL!-K:AIkpre,\n",
      "rPHEJUzV;P?uN3b?ohoRiBUENoV3B&jumNL;Aik,\n",
      "xf -IEKROn JSyYWW?n 'ay;:weO'AqVzPyoiBL? seAX3Dot,iy.xyIcf r!!ul-Koi:x pZrAQly'v'a;vEzN\n",
      "BwowKo'MBqF$PPFb\n",
      "CjYX3beT,lZ qdda!wfgmJP\n",
      "DUfNXmnQU mvcv?nlnQF$JUAAywNocd  bGSPyAlprNeQnq-GRSVUP.Ja!IBoDqfI&xJM AXEHV&DKvRS\n"
     ]
    }
   ],
   "execution_count": 18
  },
  {
   "metadata": {},
   "cell_type": "markdown",
   "source": "### The mathematical trick in self-attention",
   "id": "318ba068aa077c44"
  },
  {
   "metadata": {
    "ExecuteTime": {
     "end_time": "2025-07-02T01:40:30.600792Z",
     "start_time": "2025-07-02T01:40:30.591340Z"
    }
   },
   "cell_type": "code",
   "source": [
    "# consider the following toy example:\n",
    "import torch\n",
    "torch.manual_seed(1337)\n",
    "B,T,C = 4,8,2 # batch, time, channels\n",
    "x = torch.randn(B,T,C)\n",
    "x.shape"
   ],
   "id": "c621f6f381826a45",
   "outputs": [
    {
     "data": {
      "text/plain": [
       "torch.Size([4, 8, 2])"
      ]
     },
     "execution_count": 19,
     "metadata": {},
     "output_type": "execute_result"
    }
   ],
   "execution_count": 19
  },
  {
   "metadata": {
    "ExecuteTime": {
     "end_time": "2025-07-02T01:40:30.625255Z",
     "start_time": "2025-07-02T01:40:30.616461Z"
    }
   },
   "cell_type": "code",
   "source": [
    "# version 1\n",
    "# We want x[b, t] = mean_{i <=t} x[b,i]\n",
    "# 위 뜻은, 정보 전달이(여기선 단순히 평균으로 전달) 현재 토큰 기준으로, 오직 이전 순서의 토큰과 이루어져야한다는 것이다.\n",
    "\n",
    "xbow =  torch.zeros((B,T,C))\n",
    "for b in range(B):\n",
    "    for t in range(T):\n",
    "        xprev = x[b, :t+1] # (t, C)\n",
    "        xbow[b,t] = torch.mean(xprev, dim = 0)"
   ],
   "id": "76b7d760018c0ca1",
   "outputs": [],
   "execution_count": 20
  },
  {
   "metadata": {
    "ExecuteTime": {
     "end_time": "2025-07-02T01:40:30.676594Z",
     "start_time": "2025-07-02T01:40:30.656594Z"
    }
   },
   "cell_type": "code",
   "source": [
    "# version 2\n",
    "# more efficient way : using matrix multiply as weighted aggregation\n",
    "wei = torch.tril(torch.ones(T,T))\n",
    "wei = wei / wei.sum(dim=1, keepdim=True)\n",
    "xbow2 = wei @ x # (1,T,T) @ (B,T,C) ---> (B,T,C)\n",
    "\n",
    "# broad casting의 원칙 1 : 비어있는 차원을 1로 추가한다.\n",
    "# ex) (T,T) -> (1,T,T)\n",
    "# broad casting의 원칙 2 : 두 차원의 연산중에 있어서, 적어도 차원 하나는 값이 같아야 한다.\n",
    "torch.allclose(xbow, xbow2)\n",
    "# false가 나온다면 부동소숫점 연산 때문일듯."
   ],
   "id": "6da047b8ad3dddac",
   "outputs": [
    {
     "data": {
      "text/plain": [
       "False"
      ]
     },
     "execution_count": 21,
     "metadata": {},
     "output_type": "execute_result"
    }
   ],
   "execution_count": 21
  },
  {
   "metadata": {
    "ExecuteTime": {
     "end_time": "2025-07-02T01:40:30.691414Z",
     "start_time": "2025-07-02T01:40:30.683594Z"
    }
   },
   "cell_type": "code",
   "source": [
    "# version 3 : use Softmax\n",
    "from torch.nn import functional as F\n",
    "tril = torch.tril(torch.ones(T,T))\n",
    "wei = torch.zeros((T,T))\n",
    "wei = wei.masked_fill(tril == 0, float('-inf'))\n",
    " # `dim = -1` means last dimension, i.e., dimension 1 for a (T,T) tensor."
   ],
   "id": "52cb6f50297746d5",
   "outputs": [],
   "execution_count": 22
  },
  {
   "metadata": {
    "ExecuteTime": {
     "end_time": "2025-07-02T01:40:30.732029Z",
     "start_time": "2025-07-02T01:40:30.727363Z"
    }
   },
   "cell_type": "code",
   "source": [
    "wei = F.softmax(wei, dim=-1)\n",
    "xbow3 = wei @ x\n",
    "torch.allclose(xbow, xbow3)"
   ],
   "id": "46ceeb84e4f4ad04",
   "outputs": [
    {
     "data": {
      "text/plain": [
       "False"
      ]
     },
     "execution_count": 23,
     "metadata": {},
     "output_type": "execute_result"
    }
   ],
   "execution_count": 23
  },
  {
   "metadata": {},
   "cell_type": "markdown",
   "source": [
    "$Softmax(x_i) =  \\frac{exp(x_i)}{\\sum_j{exp(x_j)}}$ 에서,\n",
    "지수함수는 x가 음의 무한대일때, y가 0에 수렴하므로,\n",
    "-inf가 입력됐을때의 결과값은 0이다."
   ],
   "id": "8084587927949bac"
  },
  {
   "metadata": {},
   "cell_type": "markdown",
   "source": [
    "#### matrix multiply as weighted aggregation\n",
    "행렬 곱셈으로 평균을 구하는 trick"
   ],
   "id": "8c77fb393a5d98c7"
  },
  {
   "metadata": {
    "ExecuteTime": {
     "end_time": "2025-07-02T01:40:30.779900Z",
     "start_time": "2025-07-02T01:40:30.771598Z"
    }
   },
   "cell_type": "code",
   "source": "torch.tril(torch.ones(3,3)) # .tril : Returns the lower triangular part of the matrix",
   "id": "fe5e9b874855ff89",
   "outputs": [
    {
     "data": {
      "text/plain": [
       "tensor([[1., 0., 0.],\n",
       "        [1., 1., 0.],\n",
       "        [1., 1., 1.]])"
      ]
     },
     "execution_count": 24,
     "metadata": {},
     "output_type": "execute_result"
    }
   ],
   "execution_count": 24
  },
  {
   "metadata": {
    "ExecuteTime": {
     "end_time": "2025-07-02T01:40:30.855082Z",
     "start_time": "2025-07-02T01:40:30.836685Z"
    }
   },
   "cell_type": "code",
   "source": [
    "\n",
    "torch.manual_seed(42)\n",
    "a = torch.tril(torch.ones(3,3))\n",
    "a = a / torch.sum(a, dim = 1, keepdim = True)\n",
    "b = torch.randint(0, 10, (3,2)).float()\n",
    "c = a @ b\n",
    "print('a = ')\n",
    "print(a)\n",
    "print('--')\n",
    "print('b = ')\n",
    "print(b)\n",
    "print('--')\n",
    "print('c = ')\n",
    "print(c)"
   ],
   "id": "18ca07182ab62c4e",
   "outputs": [
    {
     "name": "stdout",
     "output_type": "stream",
     "text": [
      "a = \n",
      "tensor([[1.0000, 0.0000, 0.0000],\n",
      "        [0.5000, 0.5000, 0.0000],\n",
      "        [0.3333, 0.3333, 0.3333]])\n",
      "--\n",
      "b = \n",
      "tensor([[2., 7.],\n",
      "        [6., 4.],\n",
      "        [6., 5.]])\n",
      "--\n",
      "c = \n",
      "tensor([[2.0000, 7.0000],\n",
      "        [4.0000, 5.5000],\n",
      "        [4.6667, 5.3333]])\n"
     ]
    }
   ],
   "execution_count": 25
  },
  {
   "metadata": {
    "ExecuteTime": {
     "end_time": "2025-07-02T01:40:31.546170Z",
     "start_time": "2025-07-02T01:40:31.532146Z"
    }
   },
   "cell_type": "code",
   "source": [
    "# version 4: self-attention!\n",
    "torch.manual_seed(1337)\n",
    "B,T,C = 4,8,32 # batch, time, channels\n",
    "x = torch.randn(B,T,C)\n",
    "\n",
    "# let's see a single Head perform self-attention\n",
    "head_size = 16\n",
    "    # linear trasformation\n",
    "    # nn.Linear의 W(weight tensor) shape : (out_features, in_features)\n",
    "    # 실제 연산(linear transformation)은 x @ W^T\n",
    "    # 한 벡터 공간의 점을 다른 벡터 공간의 점으로 옮기는 mapping과 같다.\n",
    "key = nn.Linear(in_features = C, out_features = head_size, bias=False)\n",
    "query = nn.Linear(in_features = C, out_features = head_size, bias=False)\n",
    "value = nn.Linear(in_features = C, out_features = head_size, bias=False)\n",
    "k = key(x) # (B, T, head_size=16)\n",
    "q = query(x) # (B, T, head_size=16)\n",
    "\n",
    "# communication comes now\n",
    "wei = q @ k.transpose(-2, -1) # traspose last two dimension\n",
    "                              # In this case -2 : T,\n",
    "                              #              -1 : head_size\n",
    "# (B, T, head_size) @ (B, head_size, T) ---> (B, T, T)\n",
    "# output is raw affinities between all the nodes\n",
    "# but we don't want after token's affinities so we do masking.\n",
    "# for example, 5th token doesn't want to get a 6th, 7th... tokens information.\n",
    "tril = torch.tril(torch.ones(T,T))\n",
    "wei = wei.masked_fill(tril == 0, float('-inf'))\n",
    "\n",
    "# exponentiate and normalize\n",
    "# wei is telling us now in data dependent manner, how much of information to aggregate from any of these tokens in the past.\n",
    "wei = F.softmax(wei, dim=-1)\n",
    "\n",
    "v = value(x) # (B, T, head_size=16)\n",
    "out = wei @ v\n",
    "\n",
    "out.shape"
   ],
   "id": "8f38c6a977a608f4",
   "outputs": [
    {
     "data": {
      "text/plain": [
       "torch.Size([4, 8, 16])"
      ]
     },
     "execution_count": 26,
     "metadata": {},
     "output_type": "execute_result"
    }
   ],
   "execution_count": 26
  },
  {
   "metadata": {
    "ExecuteTime": {
     "end_time": "2025-07-02T01:40:32.157868Z",
     "start_time": "2025-07-02T01:40:32.150298Z"
    }
   },
   "cell_type": "code",
   "source": "wei[0].detach().numpy()",
   "id": "5202319e7c3c4b24",
   "outputs": [
    {
     "data": {
      "text/plain": [
       "array([[1.        , 0.        , 0.        , 0.        , 0.        ,\n",
       "        0.        , 0.        , 0.        ],\n",
       "       [0.15737972, 0.8426203 , 0.        , 0.        , 0.        ,\n",
       "        0.        , 0.        , 0.        ],\n",
       "       [0.20881522, 0.16458629, 0.6265984 , 0.        , 0.        ,\n",
       "        0.        , 0.        , 0.        ],\n",
       "       [0.5792409 , 0.11871208, 0.18892112, 0.11312591, 0.        ,\n",
       "        0.        , 0.        , 0.        ],\n",
       "       [0.02937923, 0.10517433, 0.0469426 , 0.02756283, 0.790941  ,\n",
       "        0.        , 0.        , 0.        ],\n",
       "       [0.017573  , 0.26886913, 0.02150743, 0.00889891, 0.6812242 ,\n",
       "        0.00192731, 0.        , 0.        ],\n",
       "       [0.1690685 , 0.40663928, 0.04384262, 0.04155193, 0.10477211,\n",
       "        0.20119756, 0.0329279 , 0.        ],\n",
       "       [0.02095483, 0.08428346, 0.05548807, 0.22966747, 0.05728786,\n",
       "        0.0708937 , 0.2422823 , 0.23914227]], dtype=float32)"
      ]
     },
     "execution_count": 27,
     "metadata": {},
     "output_type": "execute_result"
    }
   ],
   "execution_count": 27
  },
  {
   "metadata": {},
   "cell_type": "markdown",
   "source": [
    "- 어텐션은 **커뮤니케이션 메커니즘**이다. 이는 방향성 그래프의 노드들이 서로를 바라보며, 자신을 가리키는 모든 노드로부터 데이터에 따라 달라지는 가중치 합(weighted sum)으로 정보를 취합하는 것으로 볼 수 있다.\n",
    "\n",
    "- 어텐션에는 공간 개념이 없다. 어텐션은 단순히 벡터들의 집합에 대해 작동한다. 이것이 바로 토큰에 위치 정보를 인코딩(positional encoding)해야 하는 이유이다.\n",
    "\n",
    "-  물론, 배치 차원(batch dimension)의 각 데이터(example)는 완전히 독립적으로 처리되며 서로 정보를 교환하지 않는다.\n",
    "\n",
    "- 인코더(encoder) 어텐션 블록에서는 tril을 사용한 마스킹(masking) 라인을 삭제하여 모든 토큰이 서로 소통할 수 있게 한다. 반면, 여기서 설명하는 블록은 삼각 마스킹(triangular masking)을 사용하기 때문에 디코더(decoder) 어텐션 블록이라고 불리며, 주로 언어 모델링과 같은 자기회귀(autoregressive) 설정에서 사용된다.\n",
    "\n",
    "- **셀프 어텐션**(self-attention)은 키(key)와 밸류(value)가 쿼리(query)와 동일한 소스에서 생성되는 것을 의미한다.\n",
    "- **크로스 어텐션**(cross-attention)에서는 쿼리는 여전히 x에서 생성되지만, 키와 밸류는 다른 외부 소스(예: 인코더 모듈)로부터 제공된다.\n",
    "\n",
    "- 스케일드(Scaled) 어텐션은 추가적으로 wei 값을 1/sqrt(head_size)로 나눈다. 이를 통해 입력값인 Q(쿼리), K(키)가 단위 분산(unit variance)일 때, wei 값도 단위 분산을 갖게 되어 소프트맥스(Softmax) 함수가 한쪽으로 치우쳐 너무 포화되지 않고 분산된 상태를 유지하게 된다."
   ],
   "id": "19c2238d34c1f79a"
  },
  {
   "metadata": {
    "ExecuteTime": {
     "end_time": "2025-07-02T01:40:32.287039Z",
     "start_time": "2025-07-02T01:40:32.283533Z"
    }
   },
   "cell_type": "code",
   "source": [
    "k = torch.randn(B,T,head_size)\n",
    "q = torch.randn(B,T,head_size)\n",
    "wei = q @ k.transpose(-2, -1) * head_size ** -0.5"
   ],
   "id": "d78d06876295b651",
   "outputs": [],
   "execution_count": 28
  },
  {
   "metadata": {
    "ExecuteTime": {
     "end_time": "2025-07-02T01:40:32.398548Z",
     "start_time": "2025-07-02T01:40:32.392368Z"
    }
   },
   "cell_type": "code",
   "source": "k.var()",
   "id": "df464a4a703712f1",
   "outputs": [
    {
     "data": {
      "text/plain": [
       "tensor(1.0449)"
      ]
     },
     "execution_count": 29,
     "metadata": {},
     "output_type": "execute_result"
    }
   ],
   "execution_count": 29
  },
  {
   "metadata": {
    "ExecuteTime": {
     "end_time": "2025-07-02T01:40:32.545003Z",
     "start_time": "2025-07-02T01:40:32.540487Z"
    }
   },
   "cell_type": "code",
   "source": "q.var()",
   "id": "32482e7bc3b6b296",
   "outputs": [
    {
     "data": {
      "text/plain": [
       "tensor(1.0700)"
      ]
     },
     "execution_count": 30,
     "metadata": {},
     "output_type": "execute_result"
    }
   ],
   "execution_count": 30
  },
  {
   "metadata": {
    "ExecuteTime": {
     "end_time": "2025-07-02T01:40:32.604622Z",
     "start_time": "2025-07-02T01:40:32.599778Z"
    }
   },
   "cell_type": "code",
   "source": "wei.var()",
   "id": "5dea1c13fb81d518",
   "outputs": [
    {
     "data": {
      "text/plain": [
       "tensor(1.0918)"
      ]
     },
     "execution_count": 31,
     "metadata": {},
     "output_type": "execute_result"
    }
   ],
   "execution_count": 31
  },
  {
   "metadata": {
    "ExecuteTime": {
     "end_time": "2025-07-02T01:40:32.678688Z",
     "start_time": "2025-07-02T01:40:32.672687Z"
    }
   },
   "cell_type": "code",
   "source": "torch.softmax(torch.tensor([0.1, -0.2, 0.3, -0.2, 0.5]), dim = -1)",
   "id": "5ac41e2b8b128264",
   "outputs": [
    {
     "data": {
      "text/plain": [
       "tensor([0.1925, 0.1426, 0.2351, 0.1426, 0.2872])"
      ]
     },
     "execution_count": 32,
     "metadata": {},
     "output_type": "execute_result"
    }
   ],
   "execution_count": 32
  },
  {
   "metadata": {
    "ExecuteTime": {
     "end_time": "2025-07-02T01:40:35.539453Z",
     "start_time": "2025-07-02T01:40:35.534158Z"
    }
   },
   "cell_type": "code",
   "source": "torch.softmax(torch.tensor([0.1, -0.2, 0.3, -0.2, 0.5])*8, dim = -1)",
   "id": "32090e3c259d745d",
   "outputs": [
    {
     "data": {
      "text/plain": [
       "tensor([0.0326, 0.0030, 0.1615, 0.0030, 0.8000])"
      ]
     },
     "execution_count": 33,
     "metadata": {},
     "output_type": "execute_result"
    }
   ],
   "execution_count": 33
  },
  {
   "metadata": {
    "ExecuteTime": {
     "end_time": "2025-07-02T06:03:40.546925Z",
     "start_time": "2025-07-02T06:03:40.534211Z"
    }
   },
   "cell_type": "code",
   "source": [
    "class BatchNorm1d:\n",
    "    def __init__(self, dim, eps=1e-5, momentum=0.1):\n",
    "        self.eps = eps\n",
    "        self.gamma = torch.ones(dim)\n",
    "        self.beta = torch.zeros(dim)\n",
    "\n",
    "    def __call__(self, x):\n",
    "        # calculate the forward pass\n",
    "        xmean = x.mean(1, keepdim=True) # batch mean\n",
    "        xvar = x.var(1, keepdim=True, unbiased=True) # batch variance\n",
    "        xhat = (x - xmean) / torch.sqrt(xvar + self.eps) # normalize to unit variance\n",
    "        self.out = self.gamma * xhat + self.beta\n",
    "        return self.out\n",
    "\n",
    "    def parameters(self):\n",
    "        return [self.gamma, self.beta]\n",
    "\n",
    "    def to(self, device):\n",
    "        self.gamma = self.gamma.to(device)\n",
    "        self.beta = self.beta.to(device)\n",
    "\n",
    "torch.manual_seed(1337)\n",
    "module = BatchNorm1d(100)\n",
    "x = torch.randn(32, 100)\n",
    "x = module(x)\n",
    "x.shape"
   ],
   "id": "f802cc5197fad574",
   "outputs": [
    {
     "data": {
      "text/plain": [
       "torch.Size([32, 100])"
      ]
     },
     "execution_count": 39,
     "metadata": {},
     "output_type": "execute_result"
    }
   ],
   "execution_count": 39
  },
  {
   "metadata": {
    "ExecuteTime": {
     "end_time": "2025-07-02T06:03:41.373753Z",
     "start_time": "2025-07-02T06:03:41.366997Z"
    }
   },
   "cell_type": "code",
   "source": "x[:,0].mean(), x[:,0].std() # mean, std of one feature across all batch inputs",
   "id": "64a6e23ec0b8f63f",
   "outputs": [
    {
     "data": {
      "text/plain": [
       "(tensor(0.1469), tensor(0.8803))"
      ]
     },
     "execution_count": 40,
     "metadata": {},
     "output_type": "execute_result"
    }
   ],
   "execution_count": 40
  },
  {
   "metadata": {
    "ExecuteTime": {
     "end_time": "2025-07-02T06:03:42.713786Z",
     "start_time": "2025-07-02T06:03:42.705701Z"
    }
   },
   "cell_type": "code",
   "source": "x[0,:].mean(), x[0,:].std() # mean,std of a single input from the batch, of its features",
   "id": "3c8ae39a3b51f806",
   "outputs": [
    {
     "data": {
      "text/plain": [
       "(tensor(-9.5367e-09), tensor(1.0000))"
      ]
     },
     "execution_count": 41,
     "metadata": {},
     "output_type": "execute_result"
    }
   ],
   "execution_count": 41
  }
 ],
 "metadata": {
  "kernelspec": {
   "display_name": ".venv",
   "language": "python",
   "name": "python3"
  },
  "language_info": {
   "codemirror_mode": {
    "name": "ipython",
    "version": 3
   },
   "file_extension": ".py",
   "mimetype": "text/x-python",
   "name": "python",
   "nbconvert_exporter": "python",
   "pygments_lexer": "ipython3",
   "version": "3.12.10"
  }
 },
 "nbformat": 4,
 "nbformat_minor": 5
}
