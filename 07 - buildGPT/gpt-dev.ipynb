{
 "cells": [
  {
   "cell_type": "markdown",
   "id": "9cf57de6",
   "metadata": {},
   "source": [
    "## Reading, exploring data"
   ]
  },
  {
   "cell_type": "code",
   "execution_count": 6,
   "id": "659d91c6",
   "metadata": {},
   "outputs": [
    {
     "data": {
      "text/plain": [
       "('input.txt', <http.client.HTTPMessage at 0x136ede4eae0>)"
      ]
     },
     "execution_count": 6,
     "metadata": {},
     "output_type": "execute_result"
    }
   ],
   "source": [
    "# We always start with a dataset to train on. Let's download the tiny shakespeare dataset\n",
    "import urllib.request\n",
    "\n",
    "url = 'https://raw.githubusercontent.com/karpathy/char-rnn/master/data/tinyshakespeare/input.txt'\n",
    "filename = 'input.txt'\n",
    "\n",
    "# download file\n",
    "urllib.request.urlretrieve(url, filename)"
   ]
  },
  {
   "cell_type": "code",
   "execution_count": 7,
   "id": "431ddf89",
   "metadata": {},
   "outputs": [],
   "source": [
    "# read it in to inspect it\n",
    "with open(filename, 'r', encoding='utf-8') as f:\n",
    "    text = f.read()"
   ]
  },
  {
   "cell_type": "code",
   "execution_count": 8,
   "id": "84d1eeee",
   "metadata": {},
   "outputs": [
    {
     "name": "stdout",
     "output_type": "stream",
     "text": [
      "length of dataset in characters :  1115394\n"
     ]
    }
   ],
   "source": [
    "print('length of dataset in characters : ', len(text))"
   ]
  },
  {
   "cell_type": "code",
   "execution_count": 9,
   "id": "0ae879aa",
   "metadata": {},
   "outputs": [
    {
     "name": "stdout",
     "output_type": "stream",
     "text": [
      "First Citizen:\n",
      "Before we proceed any further, hear me speak.\n",
      "\n",
      "All:\n",
      "Speak, speak.\n",
      "\n",
      "First Citizen:\n",
      "You are all resolved rather to die than to famish?\n",
      "\n",
      "All:\n",
      "Resolved. resolved.\n",
      "\n",
      "First Citizen:\n",
      "First, you know Caius Marcius is chief enemy to the people.\n",
      "\n",
      "All:\n",
      "We know't, we know't.\n",
      "\n",
      "First Citizen:\n",
      "Let us\n"
     ]
    }
   ],
   "source": [
    "# let's look at the first 1000 charaacters\n",
    "print(text[:300])"
   ]
  },
  {
   "cell_type": "code",
   "execution_count": 10,
   "id": "736ee46d",
   "metadata": {},
   "outputs": [
    {
     "name": "stdout",
     "output_type": "stream",
     "text": [
      "\n",
      " !$&',-.3:;?ABCDEFGHIJKLMNOPQRSTUVWXYZabcdefghijklmnopqrstuvwxyz\n",
      "vocab size : 65\n"
     ]
    }
   ],
   "source": [
    "# here are all the unique characters that occur in this text\n",
    "chars = sorted(list(set(text)))\n",
    "vocab_size = len(chars)\n",
    "print(''.join(chars))\n",
    "print('vocab size :', vocab_size)"
   ]
  },
  {
   "cell_type": "markdown",
   "id": "803ec3f5",
   "metadata": {},
   "source": [
    "## Tokenization, train / val split"
   ]
  },
  {
   "cell_type": "code",
   "execution_count": 11,
   "id": "04f423b5",
   "metadata": {},
   "outputs": [
    {
     "name": "stdout",
     "output_type": "stream",
     "text": [
      "[46, 47, 47, 1, 58, 46, 43, 56, 43]\n",
      "hii there\n"
     ]
    }
   ],
   "source": [
    "#create a mapping from characters to integers\n",
    "stoi = {ch:i for i,ch in enumerate(chars)}\n",
    "itos = {i:ch for i,ch in enumerate(chars)}\n",
    "encode = lambda s: [stoi[c] for c in s] # encoder: take a string, output a list of integers\n",
    "decode = lambda l: ''.join([itos[i] for i in l]) # decoder : take a list of intergers, output a string\n",
    "\n",
    "print(encode('hii there'))\n",
    "print(decode(encode('hii there')))"
   ]
  },
  {
   "cell_type": "code",
   "execution_count": 13,
   "id": "6603f4ed",
   "metadata": {},
   "outputs": [
    {
     "name": "stdout",
     "output_type": "stream",
     "text": [
      "torch.Size([1115394]) torch.int64\n",
      "tensor([18, 47, 56, 57, 58,  1, 15, 47, 58, 47, 64, 43, 52, 10,  0, 14, 43, 44,\n",
      "        53, 56, 43,  1, 61, 43,  1, 54, 56, 53, 41, 43, 43, 42,  1, 39, 52, 63,\n",
      "         1, 44, 59, 56, 58, 46, 43, 56,  6,  1, 46, 43, 39, 56,  1, 51, 43,  1,\n",
      "        57, 54, 43, 39, 49,  8,  0,  0, 13, 50, 50, 10,  0, 31, 54, 43, 39, 49,\n",
      "         6,  1, 57, 54, 43, 39, 49,  8,  0,  0, 18, 47, 56, 57, 58,  1, 15, 47,\n",
      "        58, 47, 64, 43, 52, 10,  0, 37, 53, 59])\n"
     ]
    }
   ],
   "source": [
    "# let's now encode the entire text dataset and store it into a torch.tensor\n",
    "import torch # we use PyTorch\n",
    "data = torch.tensor(encode(text), dtype=torch.long)\n",
    "print(data.shape, data.dtype)\n",
    "print(data[:100]) # the 1000 characters we looked at earlier will to the GPT look like this"
   ]
  },
  {
   "cell_type": "code",
   "execution_count": 16,
   "id": "f1977841",
   "metadata": {},
   "outputs": [],
   "source": [
    "# Let's now split up the data into trainn and validation sets\n",
    "n = int(0.9 * len(data)) # first 90% will be train, rest val\n",
    "train_data = data[:n]\n",
    "val_data = data[n:] "
   ]
  },
  {
   "cell_type": "code",
   "execution_count": 17,
   "id": "ce4570c9",
   "metadata": {},
   "outputs": [
    {
     "data": {
      "text/plain": [
       "tensor([18, 47, 56, 57, 58,  1, 15, 47, 58])"
      ]
     },
     "execution_count": 17,
     "metadata": {},
     "output_type": "execute_result"
    }
   ],
   "source": [
    "# chunk = block\n",
    "block_size = 8\n",
    "train_data[:block_size+1]"
   ]
  },
  {
   "cell_type": "code",
   "execution_count": 18,
   "id": "688c3201",
   "metadata": {},
   "outputs": [
    {
     "name": "stdout",
     "output_type": "stream",
     "text": [
      "when input is tensor([18]) the target :  {tensor(47)}\n",
      "when input is tensor([18, 47]) the target :  {tensor(56)}\n",
      "when input is tensor([18, 47, 56]) the target :  {tensor(57)}\n",
      "when input is tensor([18, 47, 56, 57]) the target :  {tensor(58)}\n",
      "when input is tensor([18, 47, 56, 57, 58]) the target :  {tensor(1)}\n",
      "when input is tensor([18, 47, 56, 57, 58,  1]) the target :  {tensor(15)}\n",
      "when input is tensor([18, 47, 56, 57, 58,  1, 15]) the target :  {tensor(47)}\n",
      "when input is tensor([18, 47, 56, 57, 58,  1, 15, 47]) the target :  {tensor(58)}\n"
     ]
    }
   ],
   "source": [
    "x = train_data[:block_size] # inputs to the transformer\n",
    "y = train_data[1:block_size+1]  \n",
    "for t in range(block_size):\n",
    "    context = x[:t+1]   \n",
    "    target = y[t]\n",
    "    print(f'when input is {context} the target : ', {target})"
   ]
  },
  {
   "cell_type": "code",
   "execution_count": 19,
   "id": "5b511cb4",
   "metadata": {},
   "outputs": [
    {
     "name": "stdout",
     "output_type": "stream",
     "text": [
      "input:\n",
      "torch.Size([4, 8])\n",
      "tensor([[24, 43, 58,  5, 57,  1, 46, 43],\n",
      "        [44, 53, 56,  1, 58, 46, 39, 58],\n",
      "        [52, 58,  1, 58, 46, 39, 58,  1],\n",
      "        [25, 17, 27, 10,  0, 21,  1, 54]])\n",
      "target:\n",
      "torch.Size([4, 8])\n",
      "tensor([[43, 58,  5, 57,  1, 46, 43, 39],\n",
      "        [53, 56,  1, 58, 46, 39, 58,  1],\n",
      "        [58,  1, 58, 46, 39, 58,  1, 46],\n",
      "        [17, 27, 10,  0, 21,  1, 54, 39]])\n",
      "----\n",
      "when input is [24] the target : 43\n",
      "when input is [24, 43] the target : 58\n",
      "when input is [24, 43, 58] the target : 5\n",
      "when input is [24, 43, 58, 5] the target : 57\n",
      "when input is [24, 43, 58, 5, 57] the target : 1\n",
      "when input is [24, 43, 58, 5, 57, 1] the target : 46\n",
      "when input is [24, 43, 58, 5, 57, 1, 46] the target : 43\n",
      "when input is [24, 43, 58, 5, 57, 1, 46, 43] the target : 39\n",
      "when input is [44] the target : 53\n",
      "when input is [44, 53] the target : 56\n",
      "when input is [44, 53, 56] the target : 1\n",
      "when input is [44, 53, 56, 1] the target : 58\n",
      "when input is [44, 53, 56, 1, 58] the target : 46\n",
      "when input is [44, 53, 56, 1, 58, 46] the target : 39\n",
      "when input is [44, 53, 56, 1, 58, 46, 39] the target : 58\n",
      "when input is [44, 53, 56, 1, 58, 46, 39, 58] the target : 1\n",
      "when input is [52] the target : 58\n",
      "when input is [52, 58] the target : 1\n",
      "when input is [52, 58, 1] the target : 58\n",
      "when input is [52, 58, 1, 58] the target : 46\n",
      "when input is [52, 58, 1, 58, 46] the target : 39\n",
      "when input is [52, 58, 1, 58, 46, 39] the target : 58\n",
      "when input is [52, 58, 1, 58, 46, 39, 58] the target : 1\n",
      "when input is [52, 58, 1, 58, 46, 39, 58, 1] the target : 46\n",
      "when input is [25] the target : 17\n",
      "when input is [25, 17] the target : 27\n",
      "when input is [25, 17, 27] the target : 10\n",
      "when input is [25, 17, 27, 10] the target : 0\n",
      "when input is [25, 17, 27, 10, 0] the target : 21\n",
      "when input is [25, 17, 27, 10, 0, 21] the target : 1\n",
      "when input is [25, 17, 27, 10, 0, 21, 1] the target : 54\n",
      "when input is [25, 17, 27, 10, 0, 21, 1, 54] the target : 39\n"
     ]
    }
   ],
   "source": [
    "torch.manual_seed(1337)\n",
    "batch_size = 4 # how many independent sequences will we process in parallel?\n",
    "block_size = 8 # what is maximum context length for predictions?\n",
    "\n",
    "def get_batch(split):\n",
    "    # generate a small batch of data of inputs x and targets y\n",
    "    data = train_data if split == 'train' else val_data\n",
    "    ix = torch.randint(len(data) - block_size, (batch_size,)) # (high, size)\n",
    "    x = torch.stack([data[i:i+block_size] for i in ix])\n",
    "    y = torch.stack([data[i+1:i+block_size+1] for i in ix])\n",
    "\n",
    "    # return (batch_size) x (block_size) tensor = 4 * 8 \n",
    "    return x, y\n",
    "\n",
    "\n",
    "xb, yb = get_batch('train')\n",
    "print('input:')\n",
    "print(xb.shape)\n",
    "print(xb)\n",
    "print('target:')\n",
    "print(yb.shape)\n",
    "print(yb)\n",
    "\n",
    "print('----')\n",
    "\n",
    "for b in range(batch_size): # batch dimension\n",
    "    for t in range(block_size): # time dimension\n",
    "        context = xb[b, :t+1]\n",
    "        target = yb[b,t]\n",
    "        print(f'when input is {context.tolist()} the target : {target}')\n"
   ]
  },
  {
   "cell_type": "code",
   "execution_count": 15,
   "id": "c30d830c",
   "metadata": {},
   "outputs": [
    {
     "name": "stdout",
     "output_type": "stream",
     "text": [
      "tensor([[24, 43, 58,  5, 57,  1, 46, 43],\n",
      "        [44, 53, 56,  1, 58, 46, 39, 58],\n",
      "        [52, 58,  1, 58, 46, 39, 58,  1],\n",
      "        [25, 17, 27, 10,  0, 21,  1, 54]])\n"
     ]
    }
   ],
   "source": [
    "print(xb) # our input to the transformer "
   ]
  },
  {
   "cell_type": "markdown",
   "id": "165c9751",
   "metadata": {},
   "source": [
    "### simplest baseline : bigram language model, loss, geeration"
   ]
  },
  {
   "cell_type": "code",
   "execution_count": null,
   "id": "3f3de80e",
   "metadata": {},
   "outputs": [
    {
     "name": "stdout",
     "output_type": "stream",
     "text": [
      "torch.Size([32, 65])\n",
      "tensor(4.8786, grad_fn=<NllLossBackward0>)\n",
      "\n",
      "Sr?qP-QWktXoL&jLDJgOLVz'RIoDqHdhsV&vLLxatjscMpwLERSPyao.qfzs$Ys$zF-w,;eEkzxjgCKFChs!iWW.ObzDnxA Ms$3\n"
     ]
    }
   ],
   "source": [
    "import torch\n",
    "import torch.nn as nn \n",
    "from torch.nn import functional as F\n",
    "\n",
    "torch.manual_seed(1337)  \n",
    "\n",
    "class BigramLanguageModel(nn.Module):\n",
    "\n",
    "    def __init__(self, vocab_size):\n",
    "        super().__init__()\n",
    "        # each token directly reads off the logits for the next token from a lookup table\n",
    "        self.token_embedding_table = nn.Embedding(vocab_size, vocab_size)\n",
    "\n",
    "    def forward(self, idx, targets=None):\n",
    "        # idx and targets are both (B,T) tensor of integers\n",
    "        logits = self.token_embedding_table(idx) # (B,T,C) \n",
    "        # B : batch size\n",
    "        # T : Time -> block size\n",
    "        # C : channel, at this situations, vocab_size \n",
    "\n",
    "        if targets is None:\n",
    "            loss = None\n",
    "        else:\n",
    "            B, T, C = logits.shape\n",
    "            logits = logits.view(B*T,C) # 2 dimensional\n",
    "            targets = targets.view(B*T) # 1 dimensional\n",
    "            loss = F.cross_entropy(logits, targets) # negative log likelihood\n",
    "        return logits, loss\n",
    "    \n",
    "    def generate(self, idx, max_new_tokens):\n",
    "        # idx is (B,T) array of indices in the current context\n",
    "        for _ in range(max_new_tokens):\n",
    "            # get the predictions\n",
    "            # nn.Module을 상속받았기에, 자동으로 __call__ 메서드를 갖는다.\n",
    "            # 이는 forward 메서드로 연결된다.\n",
    "            logits, loss = self(idx)\n",
    "            # focus only on the last time step, \n",
    "            # we pluck out last element at the time dimension\n",
    "            logits = logits[:, -1, :] # becomes (B,C)\n",
    "            # apply softmax to get probabilities\n",
    "            probs = F.softmax(logits, dim=-1) # (B,C)\n",
    "            # sample from the distribution\n",
    "            idx_next = torch.multinomial(probs, num_samples=1) # (B,1)\n",
    "            # append sampled index to the running sequence\n",
    "            idx = torch.cat((idx,idx_next), dim=1)  # (B, T+1)\n",
    "        return idx\n",
    "    \n",
    "m = BigramLanguageModel(vocab_size)\n",
    "logits, loss = m(xb,yb)\n",
    "print(logits.shape)    \n",
    "print(loss)\n",
    "\n",
    "idx = torch.zeros((1,1), dtype=torch.long)\n",
    "print(decode(m.generate(idx = torch.zeros((1,1),dtype=torch.long),max_new_tokens=100)[0].tolist()))"
   ]
  },
  {
   "cell_type": "code",
   "execution_count": 18,
   "id": "64ebe1fb",
   "metadata": {},
   "outputs": [],
   "source": [
    "# create a PyTorch optimizer\n",
    "optimizer = torch.optim.AdamW(m.parameters(), lr = 1e-3)"
   ]
  }
 ],
 "metadata": {
  "kernelspec": {
   "display_name": ".venv",
   "language": "python",
   "name": "python3"
  },
  "language_info": {
   "codemirror_mode": {
    "name": "ipython",
    "version": 3
   },
   "file_extension": ".py",
   "mimetype": "text/x-python",
   "name": "python",
   "nbconvert_exporter": "python",
   "pygments_lexer": "ipython3",
   "version": "3.12.10"
  }
 },
 "nbformat": 4,
 "nbformat_minor": 5
}
