{
 "cells": [
  {
   "cell_type": "code",
   "execution_count": 1,
   "id": "5e528810",
   "metadata": {},
   "outputs": [],
   "source": [
    "import torch\n",
    "import torch.nn as nn\n",
    "import torch.nn.functional as F\n",
    "import matplotlib.pyplot as plt # for making figures\n",
    "%matplotlib inline"
   ]
  },
  {
   "cell_type": "code",
   "execution_count": 2,
   "id": "dd540356",
   "metadata": {},
   "outputs": [
    {
     "name": "stdout",
     "output_type": "stream",
     "text": [
      "Using device : cuda\n"
     ]
    }
   ],
   "source": [
    "# GPU 설정\n",
    "device = torch.device('cuda' if torch.cuda.is_available() else 'cpu')\n",
    "print(f'Using device : {device}')"
   ]
  },
  {
   "cell_type": "code",
   "execution_count": 3,
   "id": "c1349fa5",
   "metadata": {},
   "outputs": [],
   "source": [
    "# cuDNN 최적화 \n",
    "torch.backends.cudnn.benchmark = True\n",
    "torch.backends.cudnn.enabled = True"
   ]
  },
  {
   "cell_type": "code",
   "execution_count": 4,
   "id": "4780c521",
   "metadata": {},
   "outputs": [],
   "source": [
    "# 모든 변수 CUDA 상태 일괄 확인\n",
    "\n",
    "def check_all_cuda_status():\n",
    "    '''현재 namespace의 모든 변수 CUDA 상태 확인'''\n",
    "\n",
    "    # 전역 변수 가져오기\n",
    "    global_vars = globals()\n",
    "\n",
    "    cuda_vars = []\n",
    "    cpu_vars = []\n",
    "    non_tensor_vars = []\n",
    "\n",
    "    for var_name, var_value in global_vars.items():\n",
    "        # 시스템 변수 제외\n",
    "        if var_name.startswith('_'):\n",
    "            continue\n",
    "            \n",
    "        # PyTorch 텐서인지 확인\n",
    "        if isinstance(var_value, torch.Tensor):\n",
    "            if var_value.is_cuda:\n",
    "                cuda_vars.append(var_name)\n",
    "            else:\n",
    "                cpu_vars.append(var_name)\n",
    "        \n",
    "        # PyTorch 모델인지 확인\n",
    "        elif isinstance(var_value, nn.Module):\n",
    "            try:\n",
    "                if next(var_value.parameters()).is_cuda:\n",
    "                    cuda_vars.append(f\"{var_name} (model)\")\n",
    "                else:\n",
    "                    cpu_vars.append(f\"{var_name} (model)\")\n",
    "            except StopIteration:\n",
    "                # 파라미터가 없는 모델\n",
    "                non_tensor_vars.append(f\"{var_name} (empty model)\")\n",
    "        \n",
    "        # 기타 변수들\n",
    "        else:\n",
    "            non_tensor_vars.append(var_name)\n",
    "    \n",
    "    # 결과 출력\n",
    "    print(\"=== CUDA 상태 확인 결과 ===\")\n",
    "    print(f\"\\n✅ CUDA에 있는 변수들 ({len(cuda_vars)}개):\")\n",
    "    for var in cuda_vars:\n",
    "        print(f\"  - {var}\")\n",
    "    \n",
    "    print(f\"\\n❌ CPU에 있는 변수들 ({len(cpu_vars)}개):\")\n",
    "    for var in cpu_vars:\n",
    "        print(f\"  - {var}\")\n",
    "    \n",
    "    print(f\"\\n➖ 텐서/모델이 아닌 변수들 ({len(non_tensor_vars)}개):\")\n",
    "    for var in non_tensor_vars[:10]:  # 처음 10개만 표시\n",
    "        print(f\"  - {var}\")\n",
    "    if len(non_tensor_vars) > 10:\n",
    "        print(f\"  ... 및 {len(non_tensor_vars) - 10}개 더\")\n",
    "    \n",
    "    return cuda_vars, cpu_vars, non_tensor_vars"
   ]
  },
  {
   "cell_type": "code",
   "execution_count": 5,
   "id": "a08e7b38",
   "metadata": {},
   "outputs": [],
   "source": [
    "# check_all_cuda_status()"
   ]
  },
  {
   "cell_type": "code",
   "execution_count": 6,
   "id": "78cec006",
   "metadata": {},
   "outputs": [
    {
     "data": {
      "text/plain": [
       "30"
      ]
     },
     "execution_count": 6,
     "metadata": {},
     "output_type": "execute_result"
    }
   ],
   "source": [
    "import gc\n",
    "# cuda cache 정리\n",
    "torch.cuda.empty_cache()\n",
    "gc.collect()"
   ]
  },
  {
   "cell_type": "code",
   "execution_count": 7,
   "id": "9126965d",
   "metadata": {},
   "outputs": [
    {
     "name": "stdout",
     "output_type": "stream",
     "text": [
      "32033\n",
      "15\n",
      "['emma', 'olivia', 'ava', 'isabella', 'sophia', 'charlotte', 'mia', 'amelia']\n"
     ]
    }
   ],
   "source": [
    "# read in all the words\n",
    "words = open('../data/names.txt', 'r').read().splitlines()\n",
    "print(len(words))\n",
    "print(max(len(w) for w in words))\n",
    "print(words[:8])"
   ]
  },
  {
   "cell_type": "code",
   "execution_count": 8,
   "id": "8e1a8fb7",
   "metadata": {},
   "outputs": [
    {
     "name": "stdout",
     "output_type": "stream",
     "text": [
      "{1: 'a', 2: 'b', 3: 'c', 4: 'd', 5: 'e', 6: 'f', 7: 'g', 8: 'h', 9: 'i', 10: 'j', 11: 'k', 12: 'l', 13: 'm', 14: 'n', 15: 'o', 16: 'p', 17: 'q', 18: 'r', 19: 's', 20: 't', 21: 'u', 22: 'v', 23: 'w', 24: 'x', 25: 'y', 26: 'z', 0: '.'}\n",
      "27\n"
     ]
    }
   ],
   "source": [
    "# build the vocabulary of characters and mapping to/from integers\n",
    "chars = sorted(list(set(''.join(words))))\n",
    "stoi = {s:i+1 for i,s in enumerate(chars)}\n",
    "stoi['.'] = 0\n",
    "itos = {i:s for s,i in stoi.items()}\n",
    "vocab_size = len(itos)\n",
    "print(itos)\n",
    "print(vocab_size)"
   ]
  },
  {
   "cell_type": "code",
   "execution_count": 9,
   "id": "0a30b58c",
   "metadata": {},
   "outputs": [],
   "source": [
    "# shuffle up the words\n",
    "import random\n",
    "random.seed(42)\n",
    "random.shuffle(words)"
   ]
  },
  {
   "cell_type": "code",
   "execution_count": 38,
   "id": "22e4d92b",
   "metadata": {},
   "outputs": [
    {
     "name": "stdout",
     "output_type": "stream",
     "text": [
      "torch.Size([182437, 8]) torch.Size([182437])\n",
      "torch.Size([22781, 8]) torch.Size([22781])\n",
      "torch.Size([22928, 8]) torch.Size([22928])\n"
     ]
    }
   ],
   "source": [
    "# build the dataset\n",
    "block_size = 8 # context length : how many characters do we take to predict the next one?\n",
    "def build_dataset(words):\n",
    "    X,Y = [], []\n",
    "    for w in words:\n",
    "        # print(w)\n",
    "        context = [0] * block_size\n",
    "        for ch in w + '.':\n",
    "            ix = stoi[ch]\n",
    "            X.append(context)  \n",
    "            Y.append(ix)\n",
    "            context = context[1:] + [ix] # crop and append\n",
    "    X = torch.tensor(X) \n",
    "    Y = torch.tensor(Y)\n",
    "    print(X.shape, Y.shape)\n",
    "    return X,Y\n",
    "\n",
    "import random \n",
    "random.seed(42)\n",
    "random.shuffle(words)\n",
    "n1 = int(0.8*len(words))\n",
    "n2 = int(0.9*len(words))\n",
    "\n",
    "Xtr, Ytr = build_dataset(words[:n1])      # 80% training set\n",
    "Xdev, Ydev = build_dataset(words[n1:n2])  # 10% dev=validation set\n",
    "Xte, Yte = build_dataset(words[n2:])      # 10% test set\n",
    "\n",
    "Xtr = Xtr.to(device)\n",
    "Ytr = Ytr.to(device)\n",
    "Xdev = Xdev.to(device)\n",
    "Ydev = Ydev.to(device)\n",
    "Xte = Xte.to(device)\n",
    "Yte = Yte.to(device)"
   ]
  },
  {
   "cell_type": "code",
   "execution_count": 39,
   "id": "34890338",
   "metadata": {},
   "outputs": [
    {
     "name": "stdout",
     "output_type": "stream",
     "text": [
      "........ --> t\n",
      ".......t --> a\n",
      "......ta --> u\n",
      ".....tau --> r\n",
      "....taur --> e\n",
      "...taure --> n\n",
      "..tauren --> .\n",
      "........ --> s\n",
      ".......s --> u\n",
      "......su --> l\n",
      ".....sul --> e\n",
      "....sule --> m\n",
      "...sulem --> a\n",
      "..sulema --> n\n",
      ".suleman --> .\n",
      "........ --> z\n",
      ".......z --> e\n",
      "......ze --> r\n",
      ".....zer --> e\n",
      "....zere --> n\n"
     ]
    }
   ],
   "source": [
    "for x,y in zip(Xtr[:20],Ytr[:20]):\n",
    "    print(''.join(itos[ix.item()] for ix in x), '-->', itos[y.item()])"
   ]
  },
  {
   "cell_type": "code",
   "execution_count": null,
   "id": "b10ef3d8",
   "metadata": {},
   "outputs": [],
   "source": [
    "# Near copy paste of the layers we have developed in Part 3\n",
    "\n",
    "# -----------------------------------------------------\n",
    "class Linear:\n",
    "    def __init__(self, fan_in, fan_out, bias = True):\n",
    "        self.weight = torch.randn((fan_in, fan_out)) / fan_in**0.5 # note : kaiming init\n",
    "        self.bias = torch.zeros(fan_out) if bias else None\n",
    "\n",
    "    def __call__(self, x):\n",
    "        self.out = x @ self.weight\n",
    "        if self.bias is not None:\n",
    "            self.out += self.bias\n",
    "        return self.out\n",
    "    \n",
    "    def parameters(self):\n",
    "        return [self.weight] + ([] if self.bias is None else [self.bias])\n",
    "    \n",
    "    def to(self, device):\n",
    "        self.weight = self.weight.to(device)\n",
    "        if self.bias is not None:\n",
    "            self.bias = self.bias.to(device)\n",
    "        return self\n",
    "    \n",
    "# --------------------------------------------------------------------\n",
    "class BatchNorm1d:\n",
    "\n",
    "    def __init__(self, dim, eps=1e-5, momentum=0.1):\n",
    "        self.eps = eps\n",
    "        self.momentum = momentum\n",
    "        self.training = True\n",
    "        # parameters (trained with backprop)\n",
    "        self.gamma = torch.ones(dim)\n",
    "        self.beta = torch.zeros(dim)\n",
    "        # buffers (trained with a running 'momentum update')\n",
    "        self.running_mean = torch.zeros(dim)\n",
    "        self.running_var = torch.ones(dim)\n",
    "\n",
    "    def __call__(self, x):\n",
    "        # calculate the forward pass\n",
    "        if self.training:\n",
    "            if x.ndim == 2:\n",
    "                dim = 0\n",
    "            elif x.ndim == 3:\n",
    "                dim = (0,1)\n",
    "            xmean = x.mean(0, keepdim=True) # batch mean\n",
    "            xvar = x.var(0, keepdim=True, unbiased=True) # batch variance\n",
    "        else:\n",
    "            xmean = self.running_mean\n",
    "            xvar = self.running_var\n",
    "        xhat = (x - xmean) / torch.sqrt(xvar + self.eps) # normalize to unit variance\n",
    "        self.out = self.gamma * xhat + self.beta\n",
    "        # update the buffers\n",
    "        if self.training:\n",
    "            with torch.no_grad():\n",
    "                self.running_mean = (1-self.momentum) * self.running_mean + self.momentum * xmean\n",
    "                self.running_var = (1-self.momentum) * self.running_var + self.momentum * xvar\n",
    "        return self.out\n",
    "    \n",
    "    def parameters(self):\n",
    "        return [self.gamma, self.beta]\n",
    "    \n",
    "    def to(self, device):\n",
    "        self.gamma = self.gamma.to(device)\n",
    "        self.beta = self.beta.to(device)\n",
    "        self.running_mean = self.running_mean.to(device)\n",
    "        self.running_var = self.running_var.to(device)\n",
    "        return self\n",
    "    \n",
    "#------------------------------------------------------------------- \n",
    "class Tanh:\n",
    "    def __call__(self,x):\n",
    "        self.out = torch.tanh(x)\n",
    "        return self.out\n",
    "    \n",
    "    def parameters(self):\n",
    "        return []   \n",
    "    \n",
    "    def to(self, device):\n",
    "        return self \n",
    "\n",
    "#-------------------------------------------------------------------- \n",
    "class Embedding:\n",
    "    def __init__(self, num_embeddings, embedding_dim):\n",
    "        self.weight = torch.randn((num_embeddings, embedding_dim))\n",
    "\n",
    "    def __call__(self,IX):\n",
    "        self.out = self.weight[IX]\n",
    "        return self.out\n",
    "    \n",
    "    def parameters(self):\n",
    "        return [self.weight]\n",
    "    \n",
    "    def to(self, device):\n",
    "        self.weight = self.weight.to(device)\n",
    "        return self\n",
    "    \n",
    "# --------------------------------------------------------------------\n",
    "class FlattenConsecutive:\n",
    "\n",
    "    def __init__(self, n):\n",
    "        self.n = n\n",
    "\n",
    "    def __call__(self,x):\n",
    "        B, T, C = x.shape\n",
    "        x = x.view(B, -1, C*n)\n",
    "        self.out = x.view(x.shape[0], -1)\n",
    "        return self.out\n",
    "    # 33:30부터\n",
    "    \n",
    "    def parameters(self):\n",
    "        return []  \n",
    "    \n",
    "    def to(self, device):\n",
    "        return self \n",
    "    \n",
    "# --------------------------------------------------------------------\n",
    "class Sequential:\n",
    "\n",
    "    def __init__(self, layers):\n",
    "        '''받은 layer list를 객체의 속성으로 저장한다.'''\n",
    "        self.layers = layers\n",
    "\n",
    "    def __call__(self, x):\n",
    "        '''객체를 함수처럼 호출하게 해준다.'''\n",
    "        for layer in self.layers:\n",
    "            # 첫 번째 레이어의 출력이 두 번째 레이어의 입력이 되는 식으로, x를 update하면서 연쇄적으로 처리한다.\n",
    "            x = layer(x)\n",
    "        self.out = x\n",
    "        return self.out\n",
    "    \n",
    "    def parameters(self):\n",
    "        # get parameters of all layers and stretch them out into one list\n",
    "        return [p for layer in self.layers for p in layer.parameters()]\n",
    "    \n",
    "    def to(self, device):\n",
    "        for layer in self.layers:\n",
    "            layer.to(device)\n",
    "        return self\n"
   ]
  },
  {
   "cell_type": "code",
   "execution_count": 41,
   "id": "3181d3be",
   "metadata": {},
   "outputs": [],
   "source": [
    "torch.manual_seed(42);"
   ]
  },
  {
   "cell_type": "code",
   "execution_count": 42,
   "id": "07d90f7f",
   "metadata": {},
   "outputs": [
    {
     "name": "stdout",
     "output_type": "stream",
     "text": [
      "22097\n"
     ]
    }
   ],
   "source": [
    "n_embd = 10 # the dimensionality of the character embedding vectors\n",
    "n_hidden = 200 # the number of neurons in the hidden layer of the MLP\n",
    "\n",
    "model = Sequential([\n",
    "    Embedding(vocab_size, n_embd),\n",
    "    Flatten(),\n",
    "    Linear(n_embd * block_size, n_hidden, bias=False), BatchNorm1d(n_hidden), Tanh(),\n",
    "    Linear(n_hidden, vocab_size),\n",
    "])\n",
    "\n",
    "# 모든 layer를 device로 이동\n",
    "model.to(device)\n",
    "\n",
    "# parameter init\n",
    "with torch.no_grad():\n",
    "    model.layers[-1].weight *= 0.1 # last layer make less confident\n",
    "\n",
    "parameters = model.parameters()\n",
    "print(sum(p.nelement() for p in parameters)) # number of parameters in total\n",
    "\n",
    "for p in parameters:\n",
    "    p.requires_grad = True\n",
    "\n",
    "for i, p in enumerate(parameters):\n",
    "    p = p.to(device)  "
   ]
  },
  {
   "cell_type": "code",
   "execution_count": null,
   "id": "71b7f4dc",
   "metadata": {},
   "outputs": [
    {
     "name": "stdout",
     "output_type": "stream",
     "text": [
      "torch.Size([4, 8])\n"
     ]
    },
    {
     "data": {
      "text/plain": [
       "tensor([[ 0,  0,  0,  0,  0,  0,  0, 14],\n",
       "        [ 0,  0,  0, 19,  5, 14,  1, 25],\n",
       "        [ 0, 15, 12, 25, 13, 16,  9,  1],\n",
       "        [ 0,  0,  0, 20, 18,  9, 20, 15]], device='cuda:0')"
      ]
     },
     "execution_count": 44,
     "metadata": {},
     "output_type": "execute_result"
    }
   ],
   "source": [
    "ix = torch.randint(0, Xtr.shape[0], (4,)) # let's look at a batch of just 4 examples\n",
    "Xb, Yb = Xtr[ix], Ytr[ix]\n",
    "logits = model(Xb)\n",
    "print(Xb.shape)\n",
    "# [4,8] : 4 because we picked four numbers, 8 is block_size\n",
    "Xb"
   ]
  },
  {
   "cell_type": "code",
   "execution_count": null,
   "id": "90d5bb10",
   "metadata": {},
   "outputs": [
    {
     "data": {
      "text/plain": [
       "torch.Size([4, 8, 10])"
      ]
     },
     "execution_count": 45,
     "metadata": {},
     "output_type": "execute_result"
    }
   ],
   "source": [
    "model.layers[0].out.shape # output of Embedding layer"
   ]
  },
  {
   "cell_type": "code",
   "execution_count": null,
   "id": "9cbdba73",
   "metadata": {},
   "outputs": [
    {
     "data": {
      "text/plain": [
       "torch.Size([4, 80])"
      ]
     },
     "execution_count": 46,
     "metadata": {},
     "output_type": "execute_result"
    }
   ],
   "source": [
    "model.layers[1].out.shape # output of Flatten layer"
   ]
  },
  {
   "cell_type": "code",
   "execution_count": null,
   "id": "03441b1a",
   "metadata": {},
   "outputs": [
    {
     "data": {
      "text/plain": [
       "torch.Size([4, 200])"
      ]
     },
     "execution_count": 47,
     "metadata": {},
     "output_type": "execute_result"
    }
   ],
   "source": [
    "model.layers[2].out.shape # output of Linear layer"
   ]
  },
  {
   "cell_type": "code",
   "execution_count": null,
   "id": "b71c3c2c",
   "metadata": {},
   "outputs": [
    {
     "data": {
      "text/plain": [
       "torch.Size([4, 200])"
      ]
     },
     "execution_count": 49,
     "metadata": {},
     "output_type": "execute_result"
    }
   ],
   "source": [
    "(torch.randn(4,4,20) @ torch.randn(20,200) + torch.randn(200)).shape\n",
    "# How it works?\n",
    "# In the Pytorch, the matrix multiplication only works on the last Dimension.\n",
    "# (for upward example torch.randn(4,5,2,80), it is 80)\n",
    "# and the dimension before it in the input tensor are left unchanged."
   ]
  },
  {
   "cell_type": "code",
   "execution_count": null,
   "id": "06ccf8cf",
   "metadata": {},
   "outputs": [],
   "source": [
    "e = torch.randn(4,8,10) # goal: want this to be (4, 4, 20) where consecutive 10-d vectors get concatenated\n"
   ]
  },
  {
   "cell_type": "code",
   "execution_count": 43,
   "id": "286acc4a",
   "metadata": {},
   "outputs": [
    {
     "name": "stdout",
     "output_type": "stream",
     "text": [
      "      0/ 200000: 3.3041\n"
     ]
    }
   ],
   "source": [
    "# same optimization as last time\n",
    "max_steps = 200000\n",
    "batch_size = 32\n",
    "lossi = []\n",
    "\n",
    "for i in range(max_steps):\n",
    "\n",
    "    # minibatch construct\n",
    "    ix = torch.randint(0, Xtr.shape[0], (batch_size,))\n",
    "    ix = ix.to(device)\n",
    "    Xb,Yb = Xtr[ix], Ytr[ix] # batch X,Y\n",
    "\n",
    "    # forward pass\n",
    "    logits = model(Xb)\n",
    "    loss = F.cross_entropy(logits, Yb) # loss function\n",
    "\n",
    "    # backward pass\n",
    "    for p in parameters:\n",
    "        p.grad = None\n",
    "    loss.backward()\n",
    "\n",
    "    # update: simple SGD\n",
    "    lr = 0.1 if i < 150000 else 0.01 # step learning rate decay\n",
    "    for p in parameters:\n",
    "        p.data += -lr * p.grad\n",
    "\n",
    "    # track stats\n",
    "    if i % 10000 == 0: # print every once in a while\n",
    "        print(f'{i:7d}/{max_steps:7d}: {loss.item():.4f}')\n",
    "    lossi.append(loss.log10().item())\n",
    "\n",
    "    break"
   ]
  },
  {
   "cell_type": "code",
   "execution_count": 24,
   "id": "0d528ef1",
   "metadata": {},
   "outputs": [
    {
     "ename": "RuntimeError",
     "evalue": "shape '[-1, 1000]' is invalid for input of size 1",
     "output_type": "error",
     "traceback": [
      "\u001b[31m---------------------------------------------------------------------------\u001b[39m",
      "\u001b[31mRuntimeError\u001b[39m                              Traceback (most recent call last)",
      "\u001b[36mCell\u001b[39m\u001b[36m \u001b[39m\u001b[32mIn[24]\u001b[39m\u001b[32m, line 4\u001b[39m\n\u001b[32m      1\u001b[39m \u001b[38;5;66;03m# torch.Size([200, 1000]) 열방향(행)으로 합산해서,총 200행, 평균을 구함.\u001b[39;00m\n\u001b[32m      2\u001b[39m \u001b[38;5;66;03m# 매 1000번의 loss.log10()를 평균 낸것과 같음\u001b[39;00m\n\u001b[32m      3\u001b[39m \u001b[38;5;66;03m# 150, 즉 150000번째에 learning decay\u001b[39;00m\n\u001b[32m----> \u001b[39m\u001b[32m4\u001b[39m plt.plot(\u001b[43mtorch\u001b[49m\u001b[43m.\u001b[49m\u001b[43mtensor\u001b[49m\u001b[43m(\u001b[49m\u001b[43mlossi\u001b[49m\u001b[43m)\u001b[49m\u001b[43m.\u001b[49m\u001b[43mview\u001b[49m\u001b[43m(\u001b[49m\u001b[43m-\u001b[49m\u001b[32;43m1\u001b[39;49m\u001b[43m,\u001b[49m\u001b[32;43m1000\u001b[39;49m\u001b[43m)\u001b[49m.mean(\u001b[32m1\u001b[39m))\n",
      "\u001b[31mRuntimeError\u001b[39m: shape '[-1, 1000]' is invalid for input of size 1"
     ]
    }
   ],
   "source": [
    "# torch.Size([200, 1000]) 열방향(행)으로 합산해서,총 200행, 평균을 구함.\n",
    "# 매 1000번의 loss.log10()를 평균 낸것과 같음\n",
    "# 150, 즉 150000번째에 learning decay\n",
    "plt.plot(torch.tensor(lossi).view(-1,1000).mean(1))"
   ]
  },
  {
   "cell_type": "code",
   "execution_count": 35,
   "id": "ac0487fb",
   "metadata": {},
   "outputs": [],
   "source": [
    "# put layers into eval mode (needed for batchroom expecially)\n",
    "for layer in model.layers:\n",
    "    layer.training = False"
   ]
  },
  {
   "cell_type": "code",
   "execution_count": 36,
   "id": "d8d3f0f4",
   "metadata": {},
   "outputs": [
    {
     "name": "stdout",
     "output_type": "stream",
     "text": [
      "train 3.292391777038574\n",
      "val 3.291624069213867\n"
     ]
    }
   ],
   "source": [
    "# evaluate the loss\n",
    "@torch.no_grad() # this decorator disables gradient tracking\n",
    "def split_loss(split):\n",
    "  x,y = {\n",
    "    'train': (Xtr, Ytr),\n",
    "    'val': (Xdev, Ydev),\n",
    "    'test': (Xte, Yte),\n",
    "  }[split]\n",
    "  logits = model(x)\n",
    "  loss = F.cross_entropy(logits, y)\n",
    "  print(split, loss.item())\n",
    "\n",
    "split_loss('train')\n",
    "split_loss('val')"
   ]
  },
  {
   "cell_type": "markdown",
   "id": "8832277d",
   "metadata": {},
   "source": [
    "### Performance log\n",
    "- original (3 character context + 200 hidden neurons, 12k params): train 2.058, val 2.105\n",
    "- context: 3 -> 8 (22k params): train 1.918, val 2.027"
   ]
  },
  {
   "cell_type": "code",
   "execution_count": 37,
   "id": "552ea7ca",
   "metadata": {},
   "outputs": [
    {
     "name": "stdout",
     "output_type": "stream",
     "text": [
      "vritajokyvgrzppeopkgbr.\n",
      "eqwskmairiphqiojfibjxqivf.\n",
      "btuupwhoqxgzmiirwxifbqoionyuqucicpmoph.\n",
      "q.\n",
      "smqolvhqsugnqmkfzwltv.\n",
      "vlhcvqdstwdnzqorkeezuruedg.\n",
      "hzdikhtptrynfpzykyrqjytrjyjjnfwkzgtaoyrzzrzrrojdgceenn.\n",
      "qqzligtgjpfvddzarifpkzpkvgdcxslcncofrnclekelcfkgpplrgywuzjqckspcnpsjwzgkbcvxkdgacqotnlzxcrqzdkgvckzkl.\n",
      ".\n",
      "jcxa.\n",
      "socssekuhdvqnf.\n",
      "ejpmacbgm.\n",
      "tiewwplkfxsgkmplduljhqyxztuepoyabrcvelvvkjzabzqmgkhnv.\n",
      "vynpsetlgsldne.\n",
      "hdhez.\n",
      "paixoikvqjnasoxsufjtwnxcpwybftyzylaeicmrhrphmllgpugsxuguuflgcbbuusnzor.\n",
      "hsneawwrwuisfwgrmnqgftlowzhgmgllhfmdmjdijzvhqclkeabbxikunojephk.\n",
      "epftdrmibrzpxubijf.\n",
      "fsxkrcgqxskimptqmjxmvoekhcb.\n",
      "wgrccdftwclykglkthdtluexyvzjyudkfzyknvmkbxkakvlffvccehtwzlivfkdkddvn.\n"
     ]
    }
   ],
   "source": [
    "# sample from the model\n",
    "g = torch.Generator().manual_seed(2147483647 + 10)\n",
    "\n",
    "for _ in range(20):\n",
    "    \n",
    "    out = []\n",
    "    context = [0] * block_size # initialize with all ...\n",
    "    while True:\n",
    "      # forward pass the neural net\n",
    "      logits = model(torch.tensor([context]))\n",
    "      probs = F.softmax(logits, dim=1)\n",
    "      # sample from the distribution\n",
    "      ix = torch.multinomial(probs, num_samples=1).item()\n",
    "      # shift the context window and track the samples\n",
    "      context = context[1:] + [ix]\n",
    "      out.append(ix)\n",
    "      # if we sample the special '.' token, break\n",
    "      if ix == 0:\n",
    "        break\n",
    "    \n",
    "    print(''.join(itos[i] for i in out)) # decode and print the generated word"
   ]
  }
 ],
 "metadata": {
  "kernelspec": {
   "display_name": ".venv",
   "language": "python",
   "name": "python3"
  },
  "language_info": {
   "codemirror_mode": {
    "name": "ipython",
    "version": 3
   },
   "file_extension": ".py",
   "mimetype": "text/x-python",
   "name": "python",
   "nbconvert_exporter": "python",
   "pygments_lexer": "ipython3",
   "version": "3.12.10"
  }
 },
 "nbformat": 4,
 "nbformat_minor": 5
}
